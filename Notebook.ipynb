{
 "cells": [
  {
   "cell_type": "code",
   "execution_count": 1,
   "id": "55731871",
   "metadata": {},
   "outputs": [],
   "source": [
    "import pandas as pd\n",
    "import numpy as np"
   ]
  },
  {
   "cell_type": "code",
   "execution_count": 2,
   "id": "d0e872e5",
   "metadata": {},
   "outputs": [],
   "source": [
    "df = pd.read_csv('laptop_price_dataset.csv', encoding='latin1')"
   ]
  },
  {
   "cell_type": "code",
   "execution_count": 3,
   "id": "f8633c65",
   "metadata": {},
   "outputs": [
    {
     "data": {
      "text/html": [
       "<div>\n",
       "<style scoped>\n",
       "    .dataframe tbody tr th:only-of-type {\n",
       "        vertical-align: middle;\n",
       "    }\n",
       "\n",
       "    .dataframe tbody tr th {\n",
       "        vertical-align: top;\n",
       "    }\n",
       "\n",
       "    .dataframe thead th {\n",
       "        text-align: right;\n",
       "    }\n",
       "</style>\n",
       "<table border=\"1\" class=\"dataframe\">\n",
       "  <thead>\n",
       "    <tr style=\"text-align: right;\">\n",
       "      <th></th>\n",
       "      <th>laptop_ID</th>\n",
       "      <th>Company</th>\n",
       "      <th>Product</th>\n",
       "      <th>TypeName</th>\n",
       "      <th>Inches</th>\n",
       "      <th>ScreenResolution</th>\n",
       "      <th>Cpu</th>\n",
       "      <th>Ram</th>\n",
       "      <th>Memory</th>\n",
       "      <th>Gpu</th>\n",
       "      <th>OpSys</th>\n",
       "      <th>Weight</th>\n",
       "      <th>Price</th>\n",
       "    </tr>\n",
       "  </thead>\n",
       "  <tbody>\n",
       "    <tr>\n",
       "      <th>0</th>\n",
       "      <td>1</td>\n",
       "      <td>Apple</td>\n",
       "      <td>MacBook Pro</td>\n",
       "      <td>Ultrabook</td>\n",
       "      <td>13.3</td>\n",
       "      <td>IPS Panel Retina Display 2560x1600</td>\n",
       "      <td>Intel Core i5 2.3GHz</td>\n",
       "      <td>8GB</td>\n",
       "      <td>128GB SSD</td>\n",
       "      <td>Intel Iris Plus Graphics 640</td>\n",
       "      <td>macOS</td>\n",
       "      <td>1.37kg</td>\n",
       "      <td>211938.958</td>\n",
       "    </tr>\n",
       "    <tr>\n",
       "      <th>1</th>\n",
       "      <td>2</td>\n",
       "      <td>Apple</td>\n",
       "      <td>Macbook Air</td>\n",
       "      <td>Ultrabook</td>\n",
       "      <td>13.3</td>\n",
       "      <td>1440x900</td>\n",
       "      <td>Intel Core i5 1.8GHz</td>\n",
       "      <td>8GB</td>\n",
       "      <td>128GB Flash Storage</td>\n",
       "      <td>Intel HD Graphics 6000</td>\n",
       "      <td>macOS</td>\n",
       "      <td>1.34kg</td>\n",
       "      <td>142212.308</td>\n",
       "    </tr>\n",
       "    <tr>\n",
       "      <th>2</th>\n",
       "      <td>3</td>\n",
       "      <td>HP</td>\n",
       "      <td>250 G6</td>\n",
       "      <td>Notebook</td>\n",
       "      <td>15.6</td>\n",
       "      <td>Full HD 1920x1080</td>\n",
       "      <td>Intel Core i5 7200U 2.5GHz</td>\n",
       "      <td>8GB</td>\n",
       "      <td>256GB SSD</td>\n",
       "      <td>Intel HD Graphics 620</td>\n",
       "      <td>No OS</td>\n",
       "      <td>1.86kg</td>\n",
       "      <td>90965.000</td>\n",
       "    </tr>\n",
       "    <tr>\n",
       "      <th>3</th>\n",
       "      <td>4</td>\n",
       "      <td>Apple</td>\n",
       "      <td>MacBook Pro</td>\n",
       "      <td>Ultrabook</td>\n",
       "      <td>15.4</td>\n",
       "      <td>IPS Panel Retina Display 2880x1800</td>\n",
       "      <td>Intel Core i7 2.7GHz</td>\n",
       "      <td>16GB</td>\n",
       "      <td>512GB SSD</td>\n",
       "      <td>AMD Radeon Pro 455</td>\n",
       "      <td>macOS</td>\n",
       "      <td>1.83kg</td>\n",
       "      <td>401424.590</td>\n",
       "    </tr>\n",
       "    <tr>\n",
       "      <th>4</th>\n",
       "      <td>5</td>\n",
       "      <td>Apple</td>\n",
       "      <td>MacBook Pro</td>\n",
       "      <td>Ultrabook</td>\n",
       "      <td>13.3</td>\n",
       "      <td>IPS Panel Retina Display 2560x1600</td>\n",
       "      <td>Intel Core i5 3.1GHz</td>\n",
       "      <td>8GB</td>\n",
       "      <td>256GB SSD</td>\n",
       "      <td>Intel Iris Plus Graphics 650</td>\n",
       "      <td>macOS</td>\n",
       "      <td>1.37kg</td>\n",
       "      <td>285329.520</td>\n",
       "    </tr>\n",
       "  </tbody>\n",
       "</table>\n",
       "</div>"
      ],
      "text/plain": [
       "   laptop_ID Company      Product   TypeName  Inches  \\\n",
       "0          1   Apple  MacBook Pro  Ultrabook    13.3   \n",
       "1          2   Apple  Macbook Air  Ultrabook    13.3   \n",
       "2          3      HP       250 G6   Notebook    15.6   \n",
       "3          4   Apple  MacBook Pro  Ultrabook    15.4   \n",
       "4          5   Apple  MacBook Pro  Ultrabook    13.3   \n",
       "\n",
       "                     ScreenResolution                         Cpu   Ram  \\\n",
       "0  IPS Panel Retina Display 2560x1600        Intel Core i5 2.3GHz   8GB   \n",
       "1                            1440x900        Intel Core i5 1.8GHz   8GB   \n",
       "2                   Full HD 1920x1080  Intel Core i5 7200U 2.5GHz   8GB   \n",
       "3  IPS Panel Retina Display 2880x1800        Intel Core i7 2.7GHz  16GB   \n",
       "4  IPS Panel Retina Display 2560x1600        Intel Core i5 3.1GHz   8GB   \n",
       "\n",
       "                Memory                           Gpu  OpSys  Weight  \\\n",
       "0            128GB SSD  Intel Iris Plus Graphics 640  macOS  1.37kg   \n",
       "1  128GB Flash Storage        Intel HD Graphics 6000  macOS  1.34kg   \n",
       "2            256GB SSD         Intel HD Graphics 620  No OS  1.86kg   \n",
       "3            512GB SSD            AMD Radeon Pro 455  macOS  1.83kg   \n",
       "4            256GB SSD  Intel Iris Plus Graphics 650  macOS  1.37kg   \n",
       "\n",
       "        Price  \n",
       "0  211938.958  \n",
       "1  142212.308  \n",
       "2   90965.000  \n",
       "3  401424.590  \n",
       "4  285329.520  "
      ]
     },
     "execution_count": 3,
     "metadata": {},
     "output_type": "execute_result"
    }
   ],
   "source": [
    "df.head()"
   ]
  },
  {
   "cell_type": "code",
   "execution_count": 4,
   "id": "92efbc85",
   "metadata": {},
   "outputs": [
    {
     "name": "stdout",
     "output_type": "stream",
     "text": [
      "<class 'pandas.core.frame.DataFrame'>\n",
      "RangeIndex: 1303 entries, 0 to 1302\n",
      "Data columns (total 13 columns):\n",
      " #   Column            Non-Null Count  Dtype  \n",
      "---  ------            --------------  -----  \n",
      " 0   laptop_ID         1303 non-null   int64  \n",
      " 1   Company           1303 non-null   object \n",
      " 2   Product           1303 non-null   object \n",
      " 3   TypeName          1303 non-null   object \n",
      " 4   Inches            1303 non-null   float64\n",
      " 5   ScreenResolution  1303 non-null   object \n",
      " 6   Cpu               1303 non-null   object \n",
      " 7   Ram               1303 non-null   object \n",
      " 8   Memory            1303 non-null   object \n",
      " 9   Gpu               1303 non-null   object \n",
      " 10  OpSys             1303 non-null   object \n",
      " 11  Weight            1303 non-null   object \n",
      " 12  Price             1303 non-null   float64\n",
      "dtypes: float64(2), int64(1), object(10)\n",
      "memory usage: 132.5+ KB\n"
     ]
    }
   ],
   "source": [
    "df.info()"
   ]
  },
  {
   "cell_type": "code",
   "execution_count": 5,
   "id": "159f41b9",
   "metadata": {},
   "outputs": [
    {
     "data": {
      "text/plain": [
       "0"
      ]
     },
     "execution_count": 5,
     "metadata": {},
     "output_type": "execute_result"
    }
   ],
   "source": [
    "df.duplicated().sum()"
   ]
  },
  {
   "cell_type": "markdown",
   "id": "e3722a0f",
   "metadata": {},
   "source": [
    "#### Laptop ID"
   ]
  },
  {
   "cell_type": "code",
   "execution_count": 6,
   "id": "8811d20f",
   "metadata": {},
   "outputs": [],
   "source": [
    "df.drop('laptop_ID',axis=1,inplace=True)"
   ]
  },
  {
   "cell_type": "code",
   "execution_count": 7,
   "id": "4fa02e2d",
   "metadata": {},
   "outputs": [
    {
     "data": {
      "text/plain": [
       "(1303, 12)"
      ]
     },
     "execution_count": 7,
     "metadata": {},
     "output_type": "execute_result"
    }
   ],
   "source": [
    "df.shape"
   ]
  },
  {
   "cell_type": "markdown",
   "id": "7df4542e",
   "metadata": {},
   "source": [
    "#### Product"
   ]
  },
  {
   "cell_type": "code",
   "execution_count": 8,
   "id": "06bce0c6",
   "metadata": {},
   "outputs": [
    {
     "data": {
      "text/plain": [
       "618"
      ]
     },
     "execution_count": 8,
     "metadata": {},
     "output_type": "execute_result"
    }
   ],
   "source": [
    "df['Product'].nunique()"
   ]
  },
  {
   "cell_type": "code",
   "execution_count": 9,
   "id": "386b18e9",
   "metadata": {},
   "outputs": [],
   "source": [
    "df.drop('Product',axis=1,inplace=True)"
   ]
  },
  {
   "cell_type": "code",
   "execution_count": 10,
   "id": "212410a8",
   "metadata": {},
   "outputs": [],
   "source": [
    "import matplotlib.pyplot as plt\n",
    "import seaborn as sns\n",
    "\n",
    "%matplotlib inline"
   ]
  },
  {
   "cell_type": "markdown",
   "id": "d219a9d8",
   "metadata": {},
   "source": [
    "#### Company"
   ]
  },
  {
   "cell_type": "code",
   "execution_count": 11,
   "id": "1fa067e9",
   "metadata": {},
   "outputs": [
    {
     "data": {
      "text/plain": [
       "19"
      ]
     },
     "execution_count": 11,
     "metadata": {},
     "output_type": "execute_result"
    }
   ],
   "source": [
    "df['Company'].nunique()"
   ]
  },
  {
   "cell_type": "code",
   "execution_count": 12,
   "id": "7ef4c747",
   "metadata": {},
   "outputs": [
    {
     "name": "stderr",
     "output_type": "stream",
     "text": [
      "C:\\Users\\kshit\\anaconda3\\lib\\site-packages\\seaborn\\_decorators.py:36: FutureWarning: Pass the following variable as a keyword arg: x. From version 0.12, the only valid positional argument will be `data`, and passing other arguments without an explicit keyword will result in an error or misinterpretation.\n",
      "  warnings.warn(\n"
     ]
    },
    {
     "data": {
      "image/png": "[encoded data removed]",
      "text/plain": [
       "<Figure size 640x480 with 1 Axes>"
      ]
     },
     "metadata": {},
     "output_type": "display_data"
    }
   ],
   "source": [
    "sns.countplot(df['Company'])\n",
    "plt.xticks(rotation='vertical')\n",
    "plt.show()"
   ]
  },
  {
   "cell_type": "code",
   "execution_count": 13,
   "id": "cb8b491e",
   "metadata": {},
   "outputs": [
    {
     "data": {
      "text/plain": [
       "Dell         297\n",
       "Lenovo       297\n",
       "HP           274\n",
       "Asus         158\n",
       "Acer         103\n",
       "MSI           54\n",
       "Toshiba       48\n",
       "Apple         21\n",
       "Samsung        9\n",
       "Mediacom       7\n",
       "Razer          7\n",
       "Microsoft      6\n",
       "Xiaomi         4\n",
       "Vero           4\n",
       "Chuwi          3\n",
       "Google         3\n",
       "Fujitsu        3\n",
       "LG             3\n",
       "Huawei         2\n",
       "Name: Company, dtype: int64"
      ]
     },
     "execution_count": 13,
     "metadata": {},
     "output_type": "execute_result"
    }
   ],
   "source": [
    "df['Company'].value_counts().sort_values(ascending=False)"
   ]
  },
  {
   "cell_type": "code",
   "execution_count": 14,
   "id": "13803a6a",
   "metadata": {},
   "outputs": [
    {
     "name": "stderr",
     "output_type": "stream",
     "text": [
      "C:\\Users\\kshit\\anaconda3\\lib\\site-packages\\seaborn\\_decorators.py:36: FutureWarning: Pass the following variables as keyword args: x, y. From version 0.12, the only valid positional argument will be `data`, and passing other arguments without an explicit keyword will result in an error or misinterpretation.\n",
      "  warnings.warn(\n"
     ]
    },
    {
     "data": {
      "image/png": "[encoded data removed]",
      "text/plain": [
       "<Figure size 640x480 with 1 Axes>"
      ]
     },
     "metadata": {},
     "output_type": "display_data"
    }
   ],
   "source": [
    "sns.barplot(df['Company'],df['Price'])\n",
    "plt.xticks(rotation='vertical')\n",
    "plt.show()"
   ]
  },
  {
   "cell_type": "code",
   "execution_count": 15,
   "id": "f4539388",
   "metadata": {},
   "outputs": [],
   "source": [
    "counts = df['Company'].value_counts()\n",
    "filtered_df = df[counts[df['Company']].values < 20]['Company'].unique()"
   ]
  },
  {
   "cell_type": "code",
   "execution_count": 16,
   "id": "adf7bd3e",
   "metadata": {},
   "outputs": [
    {
     "data": {
      "text/plain": [
       "array(['Chuwi', 'Microsoft', 'Huawei', 'Xiaomi', 'Vero', 'Razer',\n",
       "       'Mediacom', 'Samsung', 'Google', 'Fujitsu', 'LG'], dtype=object)"
      ]
     },
     "execution_count": 16,
     "metadata": {},
     "output_type": "execute_result"
    }
   ],
   "source": [
    "filtered_df"
   ]
  },
  {
   "cell_type": "code",
   "execution_count": 17,
   "id": "f1878f4e",
   "metadata": {},
   "outputs": [
    {
     "data": {
      "image/png": "[encoded data removed]",
      "text/plain": [
       "<Figure size 640x480 with 1 Axes>"
      ]
     },
     "metadata": {},
     "output_type": "display_data"
    }
   ],
   "source": [
    "counts = df['Company'].value_counts()\n",
    "filtered_companies = counts[counts < 20].index\n",
    "filtered_df = df[df['Company'].isin(filtered_companies)]\n",
    "sns.barplot(data=filtered_df, x='Company', y='Price')\n",
    "plt.xticks(rotation='vertical')\n",
    "plt.show()"
   ]
  },
  {
   "cell_type": "code",
   "execution_count": 18,
   "id": "f3b69778",
   "metadata": {},
   "outputs": [],
   "source": [
    "df.loc[df['Company'].isin(['Chuwi', 'Vero', 'Mediacom', 'Fujitsu']), 'Company'] = 'Others'"
   ]
  },
  {
   "cell_type": "code",
   "execution_count": 19,
   "id": "b6423005",
   "metadata": {},
   "outputs": [],
   "source": [
    "df.loc[df['Company'].isin(['Microsoft','Huawei','Xiaomi','Samsung','Google','LG']), 'Company'] = 'Avg_company'"
   ]
  },
  {
   "cell_type": "code",
   "execution_count": 20,
   "id": "88f7f9f7",
   "metadata": {},
   "outputs": [
    {
     "data": {
      "text/plain": [
       "11"
      ]
     },
     "execution_count": 20,
     "metadata": {},
     "output_type": "execute_result"
    }
   ],
   "source": [
    "df.Company.nunique()"
   ]
  },
  {
   "cell_type": "markdown",
   "id": "82552298",
   "metadata": {},
   "source": [
    "#### TypeName"
   ]
  },
  {
   "cell_type": "code",
   "execution_count": 21,
   "id": "5deed987",
   "metadata": {},
   "outputs": [
    {
     "data": {
      "text/plain": [
       "Notebook              727\n",
       "Gaming                205\n",
       "Ultrabook             196\n",
       "2 in 1 Convertible    121\n",
       "Workstation            29\n",
       "Netbook                25\n",
       "Name: TypeName, dtype: int64"
      ]
     },
     "execution_count": 21,
     "metadata": {},
     "output_type": "execute_result"
    }
   ],
   "source": [
    "df['TypeName'].value_counts()"
   ]
  },
  {
   "cell_type": "code",
   "execution_count": 22,
   "id": "5040ea1c",
   "metadata": {},
   "outputs": [
    {
     "name": "stderr",
     "output_type": "stream",
     "text": [
      "C:\\Users\\kshit\\anaconda3\\lib\\site-packages\\seaborn\\_decorators.py:36: FutureWarning: Pass the following variables as keyword args: x, y. From version 0.12, the only valid positional argument will be `data`, and passing other arguments without an explicit keyword will result in an error or misinterpretation.\n",
      "  warnings.warn(\n"
     ]
    },
    {
     "data": {
      "image/png": "[encoded data removed]",
      "text/plain": [
       "<Figure size 640x480 with 1 Axes>"
      ]
     },
     "metadata": {},
     "output_type": "display_data"
    }
   ],
   "source": [
    "sns.barplot(df['TypeName'],df['Price'])\n",
    "plt.xticks(rotation=30)\n",
    "plt.show()"
   ]
  },
  {
   "cell_type": "markdown",
   "id": "95e34cde",
   "metadata": {},
   "source": [
    "#### Inches"
   ]
  },
  {
   "cell_type": "code",
   "execution_count": 23,
   "id": "de32c34b",
   "metadata": {},
   "outputs": [
    {
     "data": {
      "text/plain": [
       "15.6    665\n",
       "14.0    197\n",
       "13.3    164\n",
       "17.3    164\n",
       "12.5     39\n",
       "11.6     33\n",
       "12.0      6\n",
       "13.5      6\n",
       "13.9      6\n",
       "12.3      5\n",
       "10.1      4\n",
       "15.4      4\n",
       "15.0      4\n",
       "13.0      2\n",
       "18.4      1\n",
       "17.0      1\n",
       "14.1      1\n",
       "11.3      1\n",
       "Name: Inches, dtype: int64"
      ]
     },
     "execution_count": 23,
     "metadata": {},
     "output_type": "execute_result"
    }
   ],
   "source": [
    "df['Inches'].value_counts()"
   ]
  },
  {
   "cell_type": "code",
   "execution_count": 24,
   "id": "d9e5429e",
   "metadata": {},
   "outputs": [
    {
     "name": "stderr",
     "output_type": "stream",
     "text": [
      "C:\\Users\\kshit\\anaconda3\\lib\\site-packages\\seaborn\\_decorators.py:36: FutureWarning: Pass the following variables as keyword args: x, y. From version 0.12, the only valid positional argument will be `data`, and passing other arguments without an explicit keyword will result in an error or misinterpretation.\n",
      "  warnings.warn(\n"
     ]
    },
    {
     "data": {
      "text/plain": [
       "<AxesSubplot:xlabel='Inches', ylabel='Price'>"
      ]
     },
     "execution_count": 24,
     "metadata": {},
     "output_type": "execute_result"
    },
    {
     "data": {
      "image/png": "[encoded data removed]",
      "text/plain": [
       "<Figure size 640x480 with 1 Axes>"
      ]
     },
     "metadata": {},
     "output_type": "display_data"
    }
   ],
   "source": [
    "sns.scatterplot(df['Inches'],df['Price'])"
   ]
  },
  {
   "cell_type": "code",
   "execution_count": 25,
   "id": "e1fb5930",
   "metadata": {},
   "outputs": [],
   "source": [
    "df['Inches'] = df['Inches'].astype('int32')"
   ]
  },
  {
   "cell_type": "code",
   "execution_count": 26,
   "id": "900dbc35",
   "metadata": {},
   "outputs": [
    {
     "name": "stderr",
     "output_type": "stream",
     "text": [
      "C:\\Users\\kshit\\anaconda3\\lib\\site-packages\\seaborn\\_decorators.py:36: FutureWarning: Pass the following variables as keyword args: x, y. From version 0.12, the only valid positional argument will be `data`, and passing other arguments without an explicit keyword will result in an error or misinterpretation.\n",
      "  warnings.warn(\n"
     ]
    },
    {
     "data": {
      "text/plain": [
       "(10.0, 20.0)"
      ]
     },
     "execution_count": 26,
     "metadata": {},
     "output_type": "execute_result"
    },
    {
     "data": {
      "image/png": "[encoded data removed]",
      "text/plain": [
       "<Figure size 640x480 with 1 Axes>"
      ]
     },
     "metadata": {},
     "output_type": "display_data"
    }
   ],
   "source": [
    "sns.scatterplot(df['Inches'],df['Price'])\n",
    "plt.xlim(10,20)"
   ]
  },
  {
   "cell_type": "markdown",
   "id": "b00ab119",
   "metadata": {},
   "source": [
    "#### ScreenResolution"
   ]
  },
  {
   "cell_type": "code",
   "execution_count": 27,
   "id": "6cbc837c",
   "metadata": {},
   "outputs": [],
   "source": [
    "df['y_resolution'] = df['ScreenResolution'].str.split('x').apply(lambda x: x[1])"
   ]
  },
  {
   "cell_type": "code",
   "execution_count": 28,
   "id": "f56751a9",
   "metadata": {},
   "outputs": [],
   "source": [
    "df.y_resolution = df.y_resolution.astype('int32')"
   ]
  },
  {
   "cell_type": "code",
   "execution_count": 29,
   "id": "e3785bc0",
   "metadata": {},
   "outputs": [],
   "source": [
    "condition = [df['y_resolution'] <= 900, ((df['y_resolution'] > 900) & (df['y_resolution'] < 1800)), df['y_resolution'] >= 1800]\n",
    "choice = [1,2,3]\n",
    "df['Display'] = np.select(condition,choice)"
   ]
  },
  {
   "cell_type": "code",
   "execution_count": 30,
   "id": "738b1a85",
   "metadata": {},
   "outputs": [
    {
     "data": {
      "text/plain": [
       "2    893\n",
       "1    335\n",
       "3     75\n",
       "Name: Display, dtype: int64"
      ]
     },
     "execution_count": 30,
     "metadata": {},
     "output_type": "execute_result"
    }
   ],
   "source": [
    "df['Display'].value_counts()"
   ]
  },
  {
   "cell_type": "code",
   "execution_count": 31,
   "id": "f897ed81",
   "metadata": {},
   "outputs": [
    {
     "name": "stderr",
     "output_type": "stream",
     "text": [
      "C:\\Users\\kshit\\anaconda3\\lib\\site-packages\\seaborn\\_decorators.py:36: FutureWarning: Pass the following variables as keyword args: x, y. From version 0.12, the only valid positional argument will be `data`, and passing other arguments without an explicit keyword will result in an error or misinterpretation.\n",
      "  warnings.warn(\n"
     ]
    },
    {
     "data": {
      "image/png": "[encoded data removed]",
      "text/plain": [
       "<Figure size 640x480 with 1 Axes>"
      ]
     },
     "metadata": {},
     "output_type": "display_data"
    }
   ],
   "source": [
    "sns.barplot(df['Display'],df['Price'])\n",
    "plt.xticks(rotation=30)\n",
    "plt.show()"
   ]
  },
  {
   "cell_type": "code",
   "execution_count": 32,
   "id": "137b3f72",
   "metadata": {},
   "outputs": [],
   "source": [
    "df['IPS'] = df['ScreenResolution'].apply(lambda x: 1 if 'IPS' in x else 0)\n",
    "df['Touchscreen'] = df['ScreenResolution'].apply(lambda x: 1 if 'Touchscreen' in x else 0)"
   ]
  },
  {
   "cell_type": "code",
   "execution_count": 33,
   "id": "75d80051",
   "metadata": {},
   "outputs": [],
   "source": [
    "df.drop('ScreenResolution',axis=1,inplace=True)\n",
    "df.drop('y_resolution',axis=1,inplace=True)"
   ]
  },
  {
   "cell_type": "code",
   "execution_count": 34,
   "id": "a4554c7c",
   "metadata": {},
   "outputs": [
    {
     "data": {
      "text/html": [
       "<div>\n",
       "<style scoped>\n",
       "    .dataframe tbody tr th:only-of-type {\n",
       "        vertical-align: middle;\n",
       "    }\n",
       "\n",
       "    .dataframe tbody tr th {\n",
       "        vertical-align: top;\n",
       "    }\n",
       "\n",
       "    .dataframe thead th {\n",
       "        text-align: right;\n",
       "    }\n",
       "</style>\n",
       "<table border=\"1\" class=\"dataframe\">\n",
       "  <thead>\n",
       "    <tr style=\"text-align: right;\">\n",
       "      <th></th>\n",
       "      <th>Company</th>\n",
       "      <th>TypeName</th>\n",
       "      <th>Inches</th>\n",
       "      <th>Cpu</th>\n",
       "      <th>Ram</th>\n",
       "      <th>Memory</th>\n",
       "      <th>Gpu</th>\n",
       "      <th>OpSys</th>\n",
       "      <th>Weight</th>\n",
       "      <th>Price</th>\n",
       "      <th>Display</th>\n",
       "      <th>IPS</th>\n",
       "      <th>Touchscreen</th>\n",
       "    </tr>\n",
       "  </thead>\n",
       "  <tbody>\n",
       "    <tr>\n",
       "      <th>1151</th>\n",
       "      <td>HP</td>\n",
       "      <td>Notebook</td>\n",
       "      <td>15</td>\n",
       "      <td>AMD E-Series 7110 1.8GHz</td>\n",
       "      <td>4GB</td>\n",
       "      <td>500GB HDD</td>\n",
       "      <td>AMD Radeon R2 Graphics</td>\n",
       "      <td>Windows 10</td>\n",
       "      <td>1.86kg</td>\n",
       "      <td>46985.400</td>\n",
       "      <td>1</td>\n",
       "      <td>0</td>\n",
       "      <td>0</td>\n",
       "    </tr>\n",
       "    <tr>\n",
       "      <th>712</th>\n",
       "      <td>Dell</td>\n",
       "      <td>Notebook</td>\n",
       "      <td>15</td>\n",
       "      <td>Intel Core i5 7200U 2.5GHz</td>\n",
       "      <td>8GB</td>\n",
       "      <td>1TB HDD</td>\n",
       "      <td>Intel HD Graphics 620</td>\n",
       "      <td>Linux</td>\n",
       "      <td>1.98kg</td>\n",
       "      <td>114853.200</td>\n",
       "      <td>2</td>\n",
       "      <td>0</td>\n",
       "      <td>0</td>\n",
       "    </tr>\n",
       "    <tr>\n",
       "      <th>452</th>\n",
       "      <td>HP</td>\n",
       "      <td>Workstation</td>\n",
       "      <td>15</td>\n",
       "      <td>Intel Core i7 7820HQ 2.9GHz</td>\n",
       "      <td>8GB</td>\n",
       "      <td>512GB SSD</td>\n",
       "      <td>Intel HD Graphics 620</td>\n",
       "      <td>Windows 10</td>\n",
       "      <td>2.31kg</td>\n",
       "      <td>242678.800</td>\n",
       "      <td>2</td>\n",
       "      <td>1</td>\n",
       "      <td>0</td>\n",
       "    </tr>\n",
       "    <tr>\n",
       "      <th>876</th>\n",
       "      <td>Asus</td>\n",
       "      <td>Notebook</td>\n",
       "      <td>15</td>\n",
       "      <td>Intel Pentium Quad Core N4200 1.1GHz</td>\n",
       "      <td>4GB</td>\n",
       "      <td>1TB HDD</td>\n",
       "      <td>Intel HD Graphics 505</td>\n",
       "      <td>Linux</td>\n",
       "      <td>2kg</td>\n",
       "      <td>63120.218</td>\n",
       "      <td>1</td>\n",
       "      <td>0</td>\n",
       "      <td>0</td>\n",
       "    </tr>\n",
       "    <tr>\n",
       "      <th>336</th>\n",
       "      <td>Dell</td>\n",
       "      <td>Ultrabook</td>\n",
       "      <td>15</td>\n",
       "      <td>Intel Core i5 8250U 1.6GHz</td>\n",
       "      <td>8GB</td>\n",
       "      <td>128GB SSD +  1TB HDD</td>\n",
       "      <td>Nvidia GeForce 940MX</td>\n",
       "      <td>Windows 10</td>\n",
       "      <td>1.9kg</td>\n",
       "      <td>165951.800</td>\n",
       "      <td>2</td>\n",
       "      <td>1</td>\n",
       "      <td>0</td>\n",
       "    </tr>\n",
       "  </tbody>\n",
       "</table>\n",
       "</div>"
      ],
      "text/plain": [
       "     Company     TypeName  Inches                                   Cpu  Ram  \\\n",
       "1151      HP     Notebook      15              AMD E-Series 7110 1.8GHz  4GB   \n",
       "712     Dell     Notebook      15            Intel Core i5 7200U 2.5GHz  8GB   \n",
       "452       HP  Workstation      15           Intel Core i7 7820HQ 2.9GHz  8GB   \n",
       "876     Asus     Notebook      15  Intel Pentium Quad Core N4200 1.1GHz  4GB   \n",
       "336     Dell    Ultrabook      15            Intel Core i5 8250U 1.6GHz  8GB   \n",
       "\n",
       "                    Memory                     Gpu       OpSys  Weight  \\\n",
       "1151             500GB HDD  AMD Radeon R2 Graphics  Windows 10  1.86kg   \n",
       "712                1TB HDD   Intel HD Graphics 620       Linux  1.98kg   \n",
       "452              512GB SSD   Intel HD Graphics 620  Windows 10  2.31kg   \n",
       "876                1TB HDD   Intel HD Graphics 505       Linux     2kg   \n",
       "336   128GB SSD +  1TB HDD    Nvidia GeForce 940MX  Windows 10   1.9kg   \n",
       "\n",
       "           Price  Display  IPS  Touchscreen  \n",
       "1151   46985.400        1    0            0  \n",
       "712   114853.200        2    0            0  \n",
       "452   242678.800        2    1            0  \n",
       "876    63120.218        1    0            0  \n",
       "336   165951.800        2    1            0  "
      ]
     },
     "execution_count": 34,
     "metadata": {},
     "output_type": "execute_result"
    }
   ],
   "source": [
    "df.sample(5)"
   ]
  },
  {
   "cell_type": "markdown",
   "id": "9b2b972b",
   "metadata": {},
   "source": [
    "#### Cpu"
   ]
  },
  {
   "cell_type": "code",
   "execution_count": 35,
   "id": "0be07a16",
   "metadata": {},
   "outputs": [],
   "source": [
    "df['Frequency'] = df['Cpu'].str.split(' ').str[-1]\n",
    "df['Frequency'] = df['Frequency'].str.replace('GHz','')"
   ]
  },
  {
   "cell_type": "code",
   "execution_count": 36,
   "id": "8e385a9c",
   "metadata": {},
   "outputs": [
    {
     "name": "stdout",
     "output_type": "stream",
     "text": [
      "<class 'pandas.core.frame.DataFrame'>\n",
      "RangeIndex: 1303 entries, 0 to 1302\n",
      "Data columns (total 14 columns):\n",
      " #   Column       Non-Null Count  Dtype  \n",
      "---  ------       --------------  -----  \n",
      " 0   Company      1303 non-null   object \n",
      " 1   TypeName     1303 non-null   object \n",
      " 2   Inches       1303 non-null   int32  \n",
      " 3   Cpu          1303 non-null   object \n",
      " 4   Ram          1303 non-null   object \n",
      " 5   Memory       1303 non-null   object \n",
      " 6   Gpu          1303 non-null   object \n",
      " 7   OpSys        1303 non-null   object \n",
      " 8   Weight       1303 non-null   object \n",
      " 9   Price        1303 non-null   float64\n",
      " 10  Display      1303 non-null   int32  \n",
      " 11  IPS          1303 non-null   int64  \n",
      " 12  Touchscreen  1303 non-null   int64  \n",
      " 13  Frequency    1303 non-null   object \n",
      "dtypes: float64(1), int32(2), int64(2), object(9)\n",
      "memory usage: 132.5+ KB\n"
     ]
    }
   ],
   "source": [
    "df.info()"
   ]
  },
  {
   "cell_type": "code",
   "execution_count": 37,
   "id": "5b26fe12",
   "metadata": {},
   "outputs": [],
   "source": [
    "df['Frequency'] = df['Frequency'].astype('float64').round()"
   ]
  },
  {
   "cell_type": "code",
   "execution_count": 38,
   "id": "816b9dd6",
   "metadata": {},
   "outputs": [],
   "source": [
    "df.loc[df['Frequency'] == 4.0, 'Frequency'] = 2.0"
   ]
  },
  {
   "cell_type": "code",
   "execution_count": 39,
   "id": "b105f27b",
   "metadata": {},
   "outputs": [
    {
     "data": {
      "text/plain": [
       "2.0    761\n",
       "3.0    451\n",
       "1.0     91\n",
       "Name: Frequency, dtype: int64"
      ]
     },
     "execution_count": 39,
     "metadata": {},
     "output_type": "execute_result"
    }
   ],
   "source": [
    "df['Frequency'].value_counts()"
   ]
  },
  {
   "cell_type": "code",
   "execution_count": 40,
   "id": "dcae5c2f",
   "metadata": {},
   "outputs": [
    {
     "data": {
      "image/png": "[encoded data removed]",
      "text/plain": [
       "<Figure size 640x480 with 1 Axes>"
      ]
     },
     "metadata": {},
     "output_type": "display_data"
    }
   ],
   "source": [
    "sns.barplot(data=df, x='Frequency', y='Price')\n",
    "plt.show()"
   ]
  },
  {
   "cell_type": "code",
   "execution_count": 41,
   "id": "73eba855",
   "metadata": {},
   "outputs": [],
   "source": [
    "mask = df['Cpu'].str.startswith('Intel Core i7')\n",
    "\n",
    "df.loc[mask, 'Processor'] = df.loc[mask, 'Cpu'].str.split().apply(lambda x: ' '.join(x[:-1]))\n",
    "df.loc[~mask, 'Processor'] = df.loc[~mask, 'Cpu'].str.split(' ').apply(lambda x: \" \".join(x[:2]))"
   ]
  },
  {
   "cell_type": "code",
   "execution_count": 42,
   "id": "94fc1919",
   "metadata": {},
   "outputs": [],
   "source": [
    "mask1 = df['Processor'].str.startswith('Intel Core i7') & (df['Processor'].str[14:16] > '75')\n",
    "mask2 = df['Processor'].str.startswith('Intel Core i7') & ~(df['Processor'].str[14:16] > '75')\n",
    "\n",
    "df['Processor'] = np.where(mask1, 'Intel Core i7 7500+', np.where(mask2, 'Intel Core i7 7500', df['Processor']))"
   ]
  },
  {
   "cell_type": "code",
   "execution_count": 43,
   "id": "842e2d22",
   "metadata": {},
   "outputs": [
    {
     "data": {
      "text/plain": [
       "Intel Core             578\n",
       "Intel Core i7 7500     272\n",
       "Intel Core i7 7500+    255\n",
       "Intel Celeron           88\n",
       "Intel Pentium           30\n",
       "AMD A9-Series           17\n",
       "Intel Atom              13\n",
       "AMD A6-Series           11\n",
       "AMD E-Series             9\n",
       "AMD A12-Series           8\n",
       "AMD A10-Series           6\n",
       "AMD A8-Series            4\n",
       "AMD Ryzen                4\n",
       "Intel Xeon               4\n",
       "AMD FX                   2\n",
       "AMD A4-Series            1\n",
       "Samsung Cortex           1\n",
       "Name: Processor, dtype: int64"
      ]
     },
     "execution_count": 43,
     "metadata": {},
     "output_type": "execute_result"
    }
   ],
   "source": [
    "df['Processor'].value_counts()"
   ]
  },
  {
   "cell_type": "code",
   "execution_count": 44,
   "id": "3083ac78",
   "metadata": {},
   "outputs": [
    {
     "name": "stderr",
     "output_type": "stream",
     "text": [
      "C:\\Users\\kshit\\anaconda3\\lib\\site-packages\\seaborn\\_decorators.py:36: FutureWarning: Pass the following variables as keyword args: x, y. From version 0.12, the only valid positional argument will be `data`, and passing other arguments without an explicit keyword will result in an error or misinterpretation.\n",
      "  warnings.warn(\n"
     ]
    },
    {
     "data": {
      "image/png": "[encoded data removed]",
      "text/plain": [
       "<Figure size 640x480 with 1 Axes>"
      ]
     },
     "metadata": {},
     "output_type": "display_data"
    }
   ],
   "source": [
    "sns.barplot(df['Processor'],df['Price'])\n",
    "plt.xticks(rotation='vertical')\n",
    "plt.show()"
   ]
  },
  {
   "cell_type": "code",
   "execution_count": 45,
   "id": "c77c4f5b",
   "metadata": {},
   "outputs": [],
   "source": [
    "df.drop('Cpu',axis=1,inplace=True)"
   ]
  },
  {
   "cell_type": "code",
   "execution_count": 46,
   "id": "86670bde",
   "metadata": {},
   "outputs": [
    {
     "name": "stdout",
     "output_type": "stream",
     "text": [
      "<class 'pandas.core.frame.DataFrame'>\n",
      "RangeIndex: 1303 entries, 0 to 1302\n",
      "Data columns (total 14 columns):\n",
      " #   Column       Non-Null Count  Dtype  \n",
      "---  ------       --------------  -----  \n",
      " 0   Company      1303 non-null   object \n",
      " 1   TypeName     1303 non-null   object \n",
      " 2   Inches       1303 non-null   int32  \n",
      " 3   Ram          1303 non-null   object \n",
      " 4   Memory       1303 non-null   object \n",
      " 5   Gpu          1303 non-null   object \n",
      " 6   OpSys        1303 non-null   object \n",
      " 7   Weight       1303 non-null   object \n",
      " 8   Price        1303 non-null   float64\n",
      " 9   Display      1303 non-null   int32  \n",
      " 10  IPS          1303 non-null   int64  \n",
      " 11  Touchscreen  1303 non-null   int64  \n",
      " 12  Frequency    1303 non-null   float64\n",
      " 13  Processor    1303 non-null   object \n",
      "dtypes: float64(2), int32(2), int64(2), object(8)\n",
      "memory usage: 132.5+ KB\n"
     ]
    }
   ],
   "source": [
    "df.info()"
   ]
  },
  {
   "cell_type": "markdown",
   "id": "3ed031c1",
   "metadata": {},
   "source": [
    "#### Memory"
   ]
  },
  {
   "cell_type": "code",
   "execution_count": 47,
   "id": "b7a836a8",
   "metadata": {},
   "outputs": [],
   "source": [
    "df['Mem1'] = df['Memory'].str.split('+').apply(lambda x: x[0])\n",
    "df['Mem2'] = df['Memory'].str.split('+').apply(lambda x: x[1] if len(x)>1 else 0)"
   ]
  },
  {
   "cell_type": "code",
   "execution_count": 48,
   "id": "b9877602",
   "metadata": {},
   "outputs": [
    {
     "data": {
      "text/html": [
       "<div>\n",
       "<style scoped>\n",
       "    .dataframe tbody tr th:only-of-type {\n",
       "        vertical-align: middle;\n",
       "    }\n",
       "\n",
       "    .dataframe tbody tr th {\n",
       "        vertical-align: top;\n",
       "    }\n",
       "\n",
       "    .dataframe thead th {\n",
       "        text-align: right;\n",
       "    }\n",
       "</style>\n",
       "<table border=\"1\" class=\"dataframe\">\n",
       "  <thead>\n",
       "    <tr style=\"text-align: right;\">\n",
       "      <th></th>\n",
       "      <th>Company</th>\n",
       "      <th>TypeName</th>\n",
       "      <th>Inches</th>\n",
       "      <th>Ram</th>\n",
       "      <th>Memory</th>\n",
       "      <th>Gpu</th>\n",
       "      <th>OpSys</th>\n",
       "      <th>Weight</th>\n",
       "      <th>Price</th>\n",
       "      <th>Display</th>\n",
       "      <th>IPS</th>\n",
       "      <th>Touchscreen</th>\n",
       "      <th>Frequency</th>\n",
       "      <th>Processor</th>\n",
       "      <th>Mem1</th>\n",
       "      <th>Mem2</th>\n",
       "    </tr>\n",
       "  </thead>\n",
       "  <tbody>\n",
       "    <tr>\n",
       "      <th>418</th>\n",
       "      <td>Dell</td>\n",
       "      <td>Notebook</td>\n",
       "      <td>15</td>\n",
       "      <td>8GB</td>\n",
       "      <td>1TB HDD</td>\n",
       "      <td>Intel HD Graphics 620</td>\n",
       "      <td>Windows 10</td>\n",
       "      <td>2.14kg</td>\n",
       "      <td>85420.090</td>\n",
       "      <td>1</td>\n",
       "      <td>0</td>\n",
       "      <td>0</td>\n",
       "      <td>2.0</td>\n",
       "      <td>Intel Core</td>\n",
       "      <td>1TB HDD</td>\n",
       "      <td>0</td>\n",
       "    </tr>\n",
       "    <tr>\n",
       "      <th>0</th>\n",
       "      <td>Apple</td>\n",
       "      <td>Ultrabook</td>\n",
       "      <td>13</td>\n",
       "      <td>8GB</td>\n",
       "      <td>128GB SSD</td>\n",
       "      <td>Intel Iris Plus Graphics 640</td>\n",
       "      <td>macOS</td>\n",
       "      <td>1.37kg</td>\n",
       "      <td>211938.958</td>\n",
       "      <td>2</td>\n",
       "      <td>1</td>\n",
       "      <td>0</td>\n",
       "      <td>2.0</td>\n",
       "      <td>Intel Core</td>\n",
       "      <td>128GB SSD</td>\n",
       "      <td>0</td>\n",
       "    </tr>\n",
       "    <tr>\n",
       "      <th>747</th>\n",
       "      <td>HP</td>\n",
       "      <td>Notebook</td>\n",
       "      <td>15</td>\n",
       "      <td>8GB</td>\n",
       "      <td>256GB SSD</td>\n",
       "      <td>Intel HD Graphics 520</td>\n",
       "      <td>Windows 10</td>\n",
       "      <td>1.86kg</td>\n",
       "      <td>85269.800</td>\n",
       "      <td>2</td>\n",
       "      <td>0</td>\n",
       "      <td>0</td>\n",
       "      <td>2.0</td>\n",
       "      <td>Intel Core</td>\n",
       "      <td>256GB SSD</td>\n",
       "      <td>0</td>\n",
       "    </tr>\n",
       "    <tr>\n",
       "      <th>12</th>\n",
       "      <td>Apple</td>\n",
       "      <td>Ultrabook</td>\n",
       "      <td>15</td>\n",
       "      <td>16GB</td>\n",
       "      <td>256GB SSD</td>\n",
       "      <td>AMD Radeon Pro 555</td>\n",
       "      <td>macOS</td>\n",
       "      <td>1.83kg</td>\n",
       "      <td>386003.254</td>\n",
       "      <td>3</td>\n",
       "      <td>1</td>\n",
       "      <td>0</td>\n",
       "      <td>3.0</td>\n",
       "      <td>Intel Core i7 7500</td>\n",
       "      <td>256GB SSD</td>\n",
       "      <td>0</td>\n",
       "    </tr>\n",
       "    <tr>\n",
       "      <th>1113</th>\n",
       "      <td>HP</td>\n",
       "      <td>Ultrabook</td>\n",
       "      <td>13</td>\n",
       "      <td>8GB</td>\n",
       "      <td>512GB SSD</td>\n",
       "      <td>Intel HD Graphics 520</td>\n",
       "      <td>Windows 10</td>\n",
       "      <td>1.16kg</td>\n",
       "      <td>311495.800</td>\n",
       "      <td>2</td>\n",
       "      <td>0</td>\n",
       "      <td>0</td>\n",
       "      <td>2.0</td>\n",
       "      <td>Intel Core i7 7500</td>\n",
       "      <td>512GB SSD</td>\n",
       "      <td>0</td>\n",
       "    </tr>\n",
       "    <tr>\n",
       "      <th>349</th>\n",
       "      <td>Dell</td>\n",
       "      <td>Ultrabook</td>\n",
       "      <td>15</td>\n",
       "      <td>8GB</td>\n",
       "      <td>1TB HDD</td>\n",
       "      <td>AMD Radeon 530</td>\n",
       "      <td>Windows 10</td>\n",
       "      <td>1.9kg</td>\n",
       "      <td>104886.600</td>\n",
       "      <td>2</td>\n",
       "      <td>0</td>\n",
       "      <td>0</td>\n",
       "      <td>2.0</td>\n",
       "      <td>Intel Core</td>\n",
       "      <td>1TB HDD</td>\n",
       "      <td>0</td>\n",
       "    </tr>\n",
       "    <tr>\n",
       "      <th>253</th>\n",
       "      <td>Lenovo</td>\n",
       "      <td>2 in 1 Convertible</td>\n",
       "      <td>13</td>\n",
       "      <td>8GB</td>\n",
       "      <td>512GB SSD</td>\n",
       "      <td>Intel UHD Graphics 620</td>\n",
       "      <td>Windows 10</td>\n",
       "      <td>1.37kg</td>\n",
       "      <td>292511.800</td>\n",
       "      <td>2</td>\n",
       "      <td>1</td>\n",
       "      <td>1</td>\n",
       "      <td>2.0</td>\n",
       "      <td>Intel Core i7 7500+</td>\n",
       "      <td>512GB SSD</td>\n",
       "      <td>0</td>\n",
       "    </tr>\n",
       "    <tr>\n",
       "      <th>346</th>\n",
       "      <td>HP</td>\n",
       "      <td>Notebook</td>\n",
       "      <td>14</td>\n",
       "      <td>2GB</td>\n",
       "      <td>32GB Flash Storage</td>\n",
       "      <td>Intel HD Graphics 400</td>\n",
       "      <td>Windows 10</td>\n",
       "      <td>1.44kg</td>\n",
       "      <td>44137.800</td>\n",
       "      <td>1</td>\n",
       "      <td>0</td>\n",
       "      <td>0</td>\n",
       "      <td>2.0</td>\n",
       "      <td>Intel Celeron</td>\n",
       "      <td>32GB Flash Storage</td>\n",
       "      <td>0</td>\n",
       "    </tr>\n",
       "    <tr>\n",
       "      <th>1096</th>\n",
       "      <td>Dell</td>\n",
       "      <td>Notebook</td>\n",
       "      <td>15</td>\n",
       "      <td>8GB</td>\n",
       "      <td>1TB HDD</td>\n",
       "      <td>AMD Radeon R7 M445</td>\n",
       "      <td>Windows 10</td>\n",
       "      <td>2.36kg</td>\n",
       "      <td>101058.160</td>\n",
       "      <td>2</td>\n",
       "      <td>0</td>\n",
       "      <td>0</td>\n",
       "      <td>2.0</td>\n",
       "      <td>Intel Core</td>\n",
       "      <td>1TB HDD</td>\n",
       "      <td>0</td>\n",
       "    </tr>\n",
       "    <tr>\n",
       "      <th>459</th>\n",
       "      <td>HP</td>\n",
       "      <td>Notebook</td>\n",
       "      <td>17</td>\n",
       "      <td>8GB</td>\n",
       "      <td>256GB SSD</td>\n",
       "      <td>Intel HD Graphics 520</td>\n",
       "      <td>Windows 10</td>\n",
       "      <td>2.5kg</td>\n",
       "      <td>101232.180</td>\n",
       "      <td>1</td>\n",
       "      <td>0</td>\n",
       "      <td>0</td>\n",
       "      <td>2.0</td>\n",
       "      <td>Intel Core</td>\n",
       "      <td>256GB SSD</td>\n",
       "      <td>0</td>\n",
       "    </tr>\n",
       "  </tbody>\n",
       "</table>\n",
       "</div>"
      ],
      "text/plain": [
       "     Company            TypeName  Inches   Ram              Memory  \\\n",
       "418     Dell            Notebook      15   8GB             1TB HDD   \n",
       "0      Apple           Ultrabook      13   8GB           128GB SSD   \n",
       "747       HP            Notebook      15   8GB           256GB SSD   \n",
       "12     Apple           Ultrabook      15  16GB           256GB SSD   \n",
       "1113      HP           Ultrabook      13   8GB           512GB SSD   \n",
       "349     Dell           Ultrabook      15   8GB             1TB HDD   \n",
       "253   Lenovo  2 in 1 Convertible      13   8GB           512GB SSD   \n",
       "346       HP            Notebook      14   2GB  32GB Flash Storage   \n",
       "1096    Dell            Notebook      15   8GB             1TB HDD   \n",
       "459       HP            Notebook      17   8GB           256GB SSD   \n",
       "\n",
       "                               Gpu       OpSys  Weight       Price  Display  \\\n",
       "418          Intel HD Graphics 620  Windows 10  2.14kg   85420.090        1   \n",
       "0     Intel Iris Plus Graphics 640       macOS  1.37kg  211938.958        2   \n",
       "747          Intel HD Graphics 520  Windows 10  1.86kg   85269.800        2   \n",
       "12              AMD Radeon Pro 555       macOS  1.83kg  386003.254        3   \n",
       "1113         Intel HD Graphics 520  Windows 10  1.16kg  311495.800        2   \n",
       "349                 AMD Radeon 530  Windows 10   1.9kg  104886.600        2   \n",
       "253         Intel UHD Graphics 620  Windows 10  1.37kg  292511.800        2   \n",
       "346          Intel HD Graphics 400  Windows 10  1.44kg   44137.800        1   \n",
       "1096            AMD Radeon R7 M445  Windows 10  2.36kg  101058.160        2   \n",
       "459          Intel HD Graphics 520  Windows 10   2.5kg  101232.180        1   \n",
       "\n",
       "      IPS  Touchscreen  Frequency            Processor                Mem1  \\\n",
       "418     0            0        2.0           Intel Core             1TB HDD   \n",
       "0       1            0        2.0           Intel Core           128GB SSD   \n",
       "747     0            0        2.0           Intel Core           256GB SSD   \n",
       "12      1            0        3.0   Intel Core i7 7500           256GB SSD   \n",
       "1113    0            0        2.0   Intel Core i7 7500           512GB SSD   \n",
       "349     0            0        2.0           Intel Core             1TB HDD   \n",
       "253     1            1        2.0  Intel Core i7 7500+           512GB SSD   \n",
       "346     0            0        2.0        Intel Celeron  32GB Flash Storage   \n",
       "1096    0            0        2.0           Intel Core             1TB HDD   \n",
       "459     0            0        2.0           Intel Core           256GB SSD   \n",
       "\n",
       "     Mem2  \n",
       "418     0  \n",
       "0       0  \n",
       "747     0  \n",
       "12      0  \n",
       "1113    0  \n",
       "349     0  \n",
       "253     0  \n",
       "346     0  \n",
       "1096    0  \n",
       "459     0  "
      ]
     },
     "execution_count": 48,
     "metadata": {},
     "output_type": "execute_result"
    }
   ],
   "source": [
    "df.sample(10)"
   ]
  },
  {
   "cell_type": "code",
   "execution_count": 49,
   "id": "c940d011",
   "metadata": {},
   "outputs": [
    {
     "data": {
      "text/plain": [
       "0                 1095\n",
       "  1TB HDD          185\n",
       "  2TB HDD           15\n",
       "  256GB SSD          3\n",
       "  500GB HDD          2\n",
       "  1.0TB Hybrid       2\n",
       "  512GB SSD          1\n",
       "Name: Mem2, dtype: int64"
      ]
     },
     "execution_count": 49,
     "metadata": {},
     "output_type": "execute_result"
    }
   ],
   "source": [
    "df['Mem2'].value_counts()"
   ]
  },
  {
   "cell_type": "code",
   "execution_count": 50,
   "id": "f82a9334",
   "metadata": {},
   "outputs": [],
   "source": [
    "df[['Value1','Type1']] = df['Mem1'].str.split(n=1, expand=True)"
   ]
  },
  {
   "cell_type": "code",
   "execution_count": 51,
   "id": "2c05313d",
   "metadata": {},
   "outputs": [],
   "source": [
    "df[['Value2','Type2']] = df['Mem2'].str.split(n=1, expand=True).fillna(value=0)"
   ]
  },
  {
   "cell_type": "code",
   "execution_count": 52,
   "id": "17084c41",
   "metadata": {},
   "outputs": [],
   "source": [
    "def convert_to_gb(memory_size):\n",
    "    if isinstance(memory_size, str):\n",
    "        if 'TB' in memory_size:\n",
    "            return float(memory_size.replace('TB', '')) * 1000\n",
    "        elif 'GB' in memory_size:\n",
    "            return float(memory_size.replace('GB', ''))\n",
    "    return memory_size"
   ]
  },
  {
   "cell_type": "code",
   "execution_count": 53,
   "id": "59dd3e8c",
   "metadata": {},
   "outputs": [],
   "source": [
    "df[['Value1', 'Value2']] = df[['Value1', 'Value2']].applymap(convert_to_gb)"
   ]
  },
  {
   "cell_type": "code",
   "execution_count": 54,
   "id": "edebdcc3",
   "metadata": {},
   "outputs": [],
   "source": [
    "df['Type1'] = df['Type1'].str.strip()"
   ]
  },
  {
   "cell_type": "code",
   "execution_count": 55,
   "id": "403e614d",
   "metadata": {},
   "outputs": [],
   "source": [
    "df['SSD'] = df.apply(lambda x: (x['Value1'] + x['Value2']) if (x['Type1'] == x['Type2'] == 'SSD') else (x['Value1'] if x['Type1'] == 'SSD' else (x['Value2'] if x['Type2'] == 'SSD' else 0)), axis=1)"
   ]
  },
  {
   "cell_type": "code",
   "execution_count": 56,
   "id": "e96c19f7",
   "metadata": {},
   "outputs": [],
   "source": [
    "df['Type2'] = df['Type2'].str.strip()\n",
    "\n",
    "df['HDD'] = df.apply(lambda x: (x['Value1'] + x['Value2']) if (x['Type1'] == x['Type2'] == 'HDD') else (x['Value1'] if x['Type1'] == 'HDD' else (x['Value2'] if x['Type2'] == 'HDD' else 0)), axis=1)"
   ]
  },
  {
   "cell_type": "code",
   "execution_count": 57,
   "id": "de300386",
   "metadata": {},
   "outputs": [],
   "source": [
    "df.drop(['Memory','Mem1','Mem2','Value1','Type1','Value2','Type2'], axis=1, inplace=True)"
   ]
  },
  {
   "cell_type": "markdown",
   "id": "e73371be",
   "metadata": {},
   "source": [
    "#### RAM"
   ]
  },
  {
   "cell_type": "code",
   "execution_count": 58,
   "id": "2646c4dc",
   "metadata": {},
   "outputs": [],
   "source": [
    "df['Ram'] = df['Ram'].str.replace('GB', '')"
   ]
  },
  {
   "cell_type": "code",
   "execution_count": 59,
   "id": "b608fa4f",
   "metadata": {},
   "outputs": [],
   "source": [
    "df['Ram'] = df['Ram'].astype('int32')"
   ]
  },
  {
   "cell_type": "code",
   "execution_count": 60,
   "id": "d336af03",
   "metadata": {},
   "outputs": [
    {
     "name": "stderr",
     "output_type": "stream",
     "text": [
      "C:\\Users\\kshit\\anaconda3\\lib\\site-packages\\seaborn\\_decorators.py:36: FutureWarning: Pass the following variables as keyword args: x, y. From version 0.12, the only valid positional argument will be `data`, and passing other arguments without an explicit keyword will result in an error or misinterpretation.\n",
      "  warnings.warn(\n"
     ]
    },
    {
     "data": {
      "image/png": "[encoded data removed]",
      "text/plain": [
       "<Figure size 640x480 with 1 Axes>"
      ]
     },
     "metadata": {},
     "output_type": "display_data"
    }
   ],
   "source": [
    "sns.barplot(df['Ram'],df['Price'])\n",
    "plt.xticks(rotation='vertical')\n",
    "plt.show()"
   ]
  },
  {
   "cell_type": "markdown",
   "id": "fb055bf5",
   "metadata": {},
   "source": [
    "#### GPU"
   ]
  },
  {
   "cell_type": "code",
   "execution_count": 61,
   "id": "ef409c26",
   "metadata": {},
   "outputs": [],
   "source": [
    "df['Gpu'] = df['Gpu'].apply(lambda x: x.split()[0])"
   ]
  },
  {
   "cell_type": "code",
   "execution_count": 62,
   "id": "4d33ebd9",
   "metadata": {},
   "outputs": [],
   "source": [
    "df.loc[df['Gpu'] == 'ARM', 'Gpu'] = 'AMD'"
   ]
  },
  {
   "cell_type": "code",
   "execution_count": 63,
   "id": "258e4aec",
   "metadata": {},
   "outputs": [
    {
     "name": "stderr",
     "output_type": "stream",
     "text": [
      "C:\\Users\\kshit\\anaconda3\\lib\\site-packages\\seaborn\\_decorators.py:36: FutureWarning: Pass the following variables as keyword args: x, y. From version 0.12, the only valid positional argument will be `data`, and passing other arguments without an explicit keyword will result in an error or misinterpretation.\n",
      "  warnings.warn(\n"
     ]
    },
    {
     "data": {
      "image/png": "[encoded data removed]",
      "text/plain": [
       "<Figure size 640x480 with 1 Axes>"
      ]
     },
     "metadata": {},
     "output_type": "display_data"
    }
   ],
   "source": [
    "sns.barplot(df['Gpu'],df['Price'])\n",
    "plt.xticks(rotation='vertical')\n",
    "plt.show()"
   ]
  },
  {
   "cell_type": "markdown",
   "id": "a3dbf46b",
   "metadata": {},
   "source": [
    "#### OpSys"
   ]
  },
  {
   "cell_type": "code",
   "execution_count": 64,
   "id": "766ce6ec",
   "metadata": {},
   "outputs": [],
   "source": [
    "def concat_os(os):\n",
    "    if os == 'No OS' or os == 'Android':\n",
    "        return 'Others'\n",
    "    elif os == 'Windows 10 S':\n",
    "        return 'Windows 10'\n",
    "    elif os == 'Mac OS X':\n",
    "        return 'macOS'\n",
    "    else:\n",
    "        return os"
   ]
  },
  {
   "cell_type": "code",
   "execution_count": 65,
   "id": "0dbe7122",
   "metadata": {},
   "outputs": [],
   "source": [
    "df['OpSys'] = df['OpSys'].apply(concat_os)"
   ]
  },
  {
   "cell_type": "code",
   "execution_count": 66,
   "id": "28994d11",
   "metadata": {},
   "outputs": [
    {
     "name": "stderr",
     "output_type": "stream",
     "text": [
      "C:\\Users\\kshit\\anaconda3\\lib\\site-packages\\seaborn\\_decorators.py:36: FutureWarning: Pass the following variables as keyword args: x, y. From version 0.12, the only valid positional argument will be `data`, and passing other arguments without an explicit keyword will result in an error or misinterpretation.\n",
      "  warnings.warn(\n"
     ]
    },
    {
     "data": {
      "image/png": "[encoded data removed]",
      "text/plain": [
       "<Figure size 640x480 with 1 Axes>"
      ]
     },
     "metadata": {},
     "output_type": "display_data"
    }
   ],
   "source": [
    "sns.barplot(df['OpSys'],df['Price'])\n",
    "plt.xticks(rotation='vertical')\n",
    "plt.show()"
   ]
  },
  {
   "cell_type": "markdown",
   "id": "8aa2bdbe",
   "metadata": {},
   "source": [
    "#### Weight"
   ]
  },
  {
   "cell_type": "code",
   "execution_count": 67,
   "id": "8b680223",
   "metadata": {},
   "outputs": [
    {
     "data": {
      "text/plain": [
       "2.2kg     121\n",
       "2.1kg      58\n",
       "2.4kg      44\n",
       "2.3kg      41\n",
       "2.5kg      38\n",
       "         ... \n",
       "3.25kg      1\n",
       "4.7kg       1\n",
       "1.55kg      1\n",
       "1.18kg      1\n",
       "4.0kg       1\n",
       "Name: Weight, Length: 179, dtype: int64"
      ]
     },
     "execution_count": 67,
     "metadata": {},
     "output_type": "execute_result"
    }
   ],
   "source": [
    "df['Weight'].value_counts()"
   ]
  },
  {
   "cell_type": "code",
   "execution_count": 68,
   "id": "fa53b37a",
   "metadata": {},
   "outputs": [],
   "source": [
    "df['Weight'] = df['Weight'].str.replace('kg', '').astype('float64')"
   ]
  },
  {
   "cell_type": "code",
   "execution_count": 69,
   "id": "dbdd5021",
   "metadata": {},
   "outputs": [
    {
     "name": "stderr",
     "output_type": "stream",
     "text": [
      "C:\\Users\\kshit\\anaconda3\\lib\\site-packages\\seaborn\\distributions.py:2619: FutureWarning: `distplot` is a deprecated function and will be removed in a future version. Please adapt your code to use either `displot` (a figure-level function with similar flexibility) or `histplot` (an axes-level function for histograms).\n",
      "  warnings.warn(msg, FutureWarning)\n"
     ]
    },
    {
     "data": {
      "text/plain": [
       "<AxesSubplot:xlabel='Weight', ylabel='Density'>"
      ]
     },
     "execution_count": 69,
     "metadata": {},
     "output_type": "execute_result"
    },
    {
     "data": {
      "image/png": "[encoded data removed]",
      "text/plain": [
       "<Figure size 640x480 with 1 Axes>"
      ]
     },
     "metadata": {},
     "output_type": "display_data"
    }
   ],
   "source": [
    "sns.distplot(df['Weight'])"
   ]
  },
  {
   "cell_type": "code",
   "execution_count": 70,
   "id": "30549859",
   "metadata": {},
   "outputs": [],
   "source": [
    "# Define the list of nearest values\n",
    "nearest_values = [1, 1.5, 2, 2.5, 3, 3.5, 4, 4.5]\n",
    "\n",
    "# Apply the conversion to the weight column\n",
    "df['Weight'] = df['Weight'].apply(lambda x: min(nearest_values, key=lambda v: abs(v - x)))"
   ]
  },
  {
   "cell_type": "code",
   "execution_count": 71,
   "id": "7fee035d",
   "metadata": {},
   "outputs": [
    {
     "name": "stderr",
     "output_type": "stream",
     "text": [
      "C:\\Users\\kshit\\anaconda3\\lib\\site-packages\\seaborn\\_decorators.py:36: FutureWarning: Pass the following variables as keyword args: x, y. From version 0.12, the only valid positional argument will be `data`, and passing other arguments without an explicit keyword will result in an error or misinterpretation.\n",
      "  warnings.warn(\n"
     ]
    },
    {
     "data": {
      "image/png": "[encoded data removed]",
      "text/plain": [
       "<Figure size 640x480 with 1 Axes>"
      ]
     },
     "metadata": {},
     "output_type": "display_data"
    }
   ],
   "source": [
    "sns.barplot(df['Weight'],df['Price'])\n",
    "plt.xticks(rotation='vertical')\n",
    "plt.show()"
   ]
  },
  {
   "cell_type": "markdown",
   "id": "244a2843",
   "metadata": {},
   "source": [
    "#### Price"
   ]
  },
  {
   "cell_type": "code",
   "execution_count": 72,
   "id": "22db13b0",
   "metadata": {},
   "outputs": [
    {
     "name": "stderr",
     "output_type": "stream",
     "text": [
      "C:\\Users\\kshit\\anaconda3\\lib\\site-packages\\seaborn\\distributions.py:2619: FutureWarning: `distplot` is a deprecated function and will be removed in a future version. Please adapt your code to use either `displot` (a figure-level function with similar flexibility) or `histplot` (an axes-level function for histograms).\n",
      "  warnings.warn(msg, FutureWarning)\n"
     ]
    },
    {
     "data": {
      "text/plain": [
       "<AxesSubplot:xlabel='Price', ylabel='Density'>"
      ]
     },
     "execution_count": 72,
     "metadata": {},
     "output_type": "execute_result"
    },
    {
     "data": {
      "image/png": "[encoded data removed]",
      "text/plain": [
       "<Figure size 640x480 with 1 Axes>"
      ]
     },
     "metadata": {},
     "output_type": "display_data"
    }
   ],
   "source": [
    "sns.distplot(df['Price'])"
   ]
  },
  {
   "cell_type": "markdown",
   "id": "34706444",
   "metadata": {},
   "source": [
    "### Visualizing the Extracted Dataset"
   ]
  },
  {
   "cell_type": "code",
   "execution_count": 73,
   "id": "e78bc28d",
   "metadata": {},
   "outputs": [
    {
     "data": {
      "text/html": [
       "<div>\n",
       "<style scoped>\n",
       "    .dataframe tbody tr th:only-of-type {\n",
       "        vertical-align: middle;\n",
       "    }\n",
       "\n",
       "    .dataframe tbody tr th {\n",
       "        vertical-align: top;\n",
       "    }\n",
       "\n",
       "    .dataframe thead th {\n",
       "        text-align: right;\n",
       "    }\n",
       "</style>\n",
       "<table border=\"1\" class=\"dataframe\">\n",
       "  <thead>\n",
       "    <tr style=\"text-align: right;\">\n",
       "      <th></th>\n",
       "      <th>Company</th>\n",
       "      <th>TypeName</th>\n",
       "      <th>Inches</th>\n",
       "      <th>Ram</th>\n",
       "      <th>Gpu</th>\n",
       "      <th>OpSys</th>\n",
       "      <th>Weight</th>\n",
       "      <th>Price</th>\n",
       "      <th>Display</th>\n",
       "      <th>IPS</th>\n",
       "      <th>Touchscreen</th>\n",
       "      <th>Frequency</th>\n",
       "      <th>Processor</th>\n",
       "      <th>SSD</th>\n",
       "      <th>HDD</th>\n",
       "    </tr>\n",
       "  </thead>\n",
       "  <tbody>\n",
       "    <tr>\n",
       "      <th>0</th>\n",
       "      <td>Apple</td>\n",
       "      <td>Ultrabook</td>\n",
       "      <td>13</td>\n",
       "      <td>8</td>\n",
       "      <td>Intel</td>\n",
       "      <td>macOS</td>\n",
       "      <td>1.5</td>\n",
       "      <td>211938.958</td>\n",
       "      <td>2</td>\n",
       "      <td>1</td>\n",
       "      <td>0</td>\n",
       "      <td>2.0</td>\n",
       "      <td>Intel Core</td>\n",
       "      <td>128.0</td>\n",
       "      <td>0.0</td>\n",
       "    </tr>\n",
       "    <tr>\n",
       "      <th>1</th>\n",
       "      <td>Apple</td>\n",
       "      <td>Ultrabook</td>\n",
       "      <td>13</td>\n",
       "      <td>8</td>\n",
       "      <td>Intel</td>\n",
       "      <td>macOS</td>\n",
       "      <td>1.5</td>\n",
       "      <td>142212.308</td>\n",
       "      <td>1</td>\n",
       "      <td>0</td>\n",
       "      <td>0</td>\n",
       "      <td>2.0</td>\n",
       "      <td>Intel Core</td>\n",
       "      <td>0.0</td>\n",
       "      <td>0.0</td>\n",
       "    </tr>\n",
       "    <tr>\n",
       "      <th>2</th>\n",
       "      <td>HP</td>\n",
       "      <td>Notebook</td>\n",
       "      <td>15</td>\n",
       "      <td>8</td>\n",
       "      <td>Intel</td>\n",
       "      <td>Others</td>\n",
       "      <td>2.0</td>\n",
       "      <td>90965.000</td>\n",
       "      <td>2</td>\n",
       "      <td>0</td>\n",
       "      <td>0</td>\n",
       "      <td>2.0</td>\n",
       "      <td>Intel Core</td>\n",
       "      <td>256.0</td>\n",
       "      <td>0.0</td>\n",
       "    </tr>\n",
       "    <tr>\n",
       "      <th>3</th>\n",
       "      <td>Apple</td>\n",
       "      <td>Ultrabook</td>\n",
       "      <td>15</td>\n",
       "      <td>16</td>\n",
       "      <td>AMD</td>\n",
       "      <td>macOS</td>\n",
       "      <td>2.0</td>\n",
       "      <td>401424.590</td>\n",
       "      <td>3</td>\n",
       "      <td>1</td>\n",
       "      <td>0</td>\n",
       "      <td>3.0</td>\n",
       "      <td>Intel Core i7 7500</td>\n",
       "      <td>512.0</td>\n",
       "      <td>0.0</td>\n",
       "    </tr>\n",
       "    <tr>\n",
       "      <th>4</th>\n",
       "      <td>Apple</td>\n",
       "      <td>Ultrabook</td>\n",
       "      <td>13</td>\n",
       "      <td>8</td>\n",
       "      <td>Intel</td>\n",
       "      <td>macOS</td>\n",
       "      <td>1.5</td>\n",
       "      <td>285329.520</td>\n",
       "      <td>2</td>\n",
       "      <td>1</td>\n",
       "      <td>0</td>\n",
       "      <td>3.0</td>\n",
       "      <td>Intel Core</td>\n",
       "      <td>256.0</td>\n",
       "      <td>0.0</td>\n",
       "    </tr>\n",
       "  </tbody>\n",
       "</table>\n",
       "</div>"
      ],
      "text/plain": [
       "  Company   TypeName  Inches  Ram    Gpu   OpSys  Weight       Price  Display  \\\n",
       "0   Apple  Ultrabook      13    8  Intel   macOS     1.5  211938.958        2   \n",
       "1   Apple  Ultrabook      13    8  Intel   macOS     1.5  142212.308        1   \n",
       "2      HP   Notebook      15    8  Intel  Others     2.0   90965.000        2   \n",
       "3   Apple  Ultrabook      15   16    AMD   macOS     2.0  401424.590        3   \n",
       "4   Apple  Ultrabook      13    8  Intel   macOS     1.5  285329.520        2   \n",
       "\n",
       "   IPS  Touchscreen  Frequency           Processor    SSD  HDD  \n",
       "0    1            0        2.0          Intel Core  128.0  0.0  \n",
       "1    0            0        2.0          Intel Core    0.0  0.0  \n",
       "2    0            0        2.0          Intel Core  256.0  0.0  \n",
       "3    1            0        3.0  Intel Core i7 7500  512.0  0.0  \n",
       "4    1            0        3.0          Intel Core  256.0  0.0  "
      ]
     },
     "execution_count": 73,
     "metadata": {},
     "output_type": "execute_result"
    }
   ],
   "source": [
    "df.head()"
   ]
  },
  {
   "cell_type": "code",
   "execution_count": 74,
   "id": "22d12696",
   "metadata": {},
   "outputs": [
    {
     "data": {
      "text/plain": [
       "Inches         0.110035\n",
       "Ram            0.743007\n",
       "Weight         0.230891\n",
       "Price          1.000000\n",
       "Display        0.547937\n",
       "IPS            0.252208\n",
       "Touchscreen    0.191226\n",
       "Frequency      0.492640\n",
       "SSD            0.670799\n",
       "HDD           -0.096441\n",
       "Name: Price, dtype: float64"
      ]
     },
     "execution_count": 74,
     "metadata": {},
     "output_type": "execute_result"
    }
   ],
   "source": [
    "df.corr()['Price']"
   ]
  },
  {
   "cell_type": "markdown",
   "id": "959f7e3f",
   "metadata": {},
   "source": [
    "#### Checking for Outliers"
   ]
  },
  {
   "cell_type": "code",
   "execution_count": 75,
   "id": "4ea85320",
   "metadata": {},
   "outputs": [
    {
     "data": {
      "text/plain": [
       "<Figure size 1000x600 with 0 Axes>"
      ]
     },
     "metadata": {},
     "output_type": "display_data"
    },
    {
     "data": {
      "image/png": "[encoded data removed]",
      "text/plain": [
       "<Figure size 600x400 with 1 Axes>"
      ]
     },
     "metadata": {},
     "output_type": "display_data"
    },
    {
     "data": {
      "image/png": "[encoded data removed]",
      "text/plain": [
       "<Figure size 600x400 with 1 Axes>"
      ]
     },
     "metadata": {},
     "output_type": "display_data"
    },
    {
     "data": {
      "image/png": "[encoded data removed]",
      "text/plain": [
       "<Figure size 600x400 with 1 Axes>"
      ]
     },
     "metadata": {},
     "output_type": "display_data"
    },
    {
     "data": {
      "image/png": "[encoded data removed]",
      "text/plain": [
       "<Figure size 600x400 with 1 Axes>"
      ]
     },
     "metadata": {},
     "output_type": "display_data"
    },
    {
     "data": {
      "image/png": "[encoded data removed]",
      "text/plain": [
       "<Figure size 600x400 with 1 Axes>"
      ]
     },
     "metadata": {},
     "output_type": "display_data"
    },
    {
     "data": {
      "image/png": "[encoded data removed]",
      "text/plain": [
       "<Figure size 600x400 with 1 Axes>"
      ]
     },
     "metadata": {},
     "output_type": "display_data"
    },
    {
     "data": {
      "image/png": "[encoded data removed]",
      "text/plain": [
       "<Figure size 600x400 with 1 Axes>"
      ]
     },
     "metadata": {},
     "output_type": "display_data"
    },
    {
     "data": {
      "image/png": "[encoded data removed]",
      "text/plain": [
       "<Figure size 600x400 with 1 Axes>"
      ]
     },
     "metadata": {},
     "output_type": "display_data"
    },
    {
     "data": {
      "image/png": "[encoded data removed]",
      "text/plain": [
       "<Figure size 600x400 with 1 Axes>"
      ]
     },
     "metadata": {},
     "output_type": "display_data"
    },
    {
     "data": {
      "image/png": "[encoded data removed]",
      "text/plain": [
       "<Figure size 600x400 with 1 Axes>"
      ]
     },
     "metadata": {},
     "output_type": "display_data"
    }
   ],
   "source": [
    "columns = ['Inches', 'Ram', 'Weight', 'Price', 'Display', 'IPS', 'Touchscreen', 'Frequency', 'SSD', 'HDD']\n",
    "\n",
    "plt.figure(figsize=(10, 6))\n",
    "\n",
    "for i, column in enumerate(columns):\n",
    "    plt.figure(figsize=(6, 4))\n",
    "    plt.boxplot(df[column])\n",
    "    plt.xticks(rotation=45)\n",
    "    plt.ylabel('Values')\n",
    "    plt.title(f'Box Plot of {column}')\n",
    "    plt.show()"
   ]
  },
  {
   "cell_type": "markdown",
   "id": "4b66f9b3",
   "metadata": {},
   "source": [
    "### Spliting the dataset"
   ]
  },
  {
   "cell_type": "code",
   "execution_count": 76,
   "id": "39f7f396",
   "metadata": {},
   "outputs": [],
   "source": [
    "X = df.drop(columns=['Price'])\n",
    "y = np.log(df['Price'])"
   ]
  },
  {
   "cell_type": "code",
   "execution_count": 77,
   "id": "4146d975",
   "metadata": {},
   "outputs": [],
   "source": [
    "from sklearn.model_selection import train_test_split\n",
    "\n",
    "X_train, X_test, y_train, y_test = train_test_split(X, y, test_size=0.25, random_state=101)"
   ]
  },
  {
   "cell_type": "code",
   "execution_count": 78,
   "id": "7e5f0eaa",
   "metadata": {},
   "outputs": [],
   "source": [
    "# for handing error during model prediction..\n",
    "\n",
    "indices_to_drop = X_test[X_test['Processor'].isin(['AMD FX', 'Samsung Cortex'])].index\n",
    "X_test.drop(indices_to_drop, inplace=True)\n",
    "y_test.drop(indices_to_drop, inplace=True)\n",
    "\n",
    "# Reset indices of X_test and y_test\n",
    "X_test.reset_index(drop=True, inplace=True)\n",
    "y_test.reset_index(drop=True, inplace=True)"
   ]
  },
  {
   "cell_type": "code",
   "execution_count": 79,
   "id": "8223fb85",
   "metadata": {},
   "outputs": [],
   "source": [
    "from sklearn.compose import ColumnTransformer\n",
    "from sklearn.preprocessing import StandardScaler, OneHotEncoder"
   ]
  },
  {
   "cell_type": "code",
   "execution_count": 80,
   "id": "7374a0aa",
   "metadata": {},
   "outputs": [],
   "source": [
    "numerical_transformer = StandardScaler()\n",
    "categorical_transformer = OneHotEncoder()"
   ]
  },
  {
   "cell_type": "code",
   "execution_count": 81,
   "id": "fe7fefd9",
   "metadata": {},
   "outputs": [
    {
     "data": {
      "text/html": [
       "<div>\n",
       "<style scoped>\n",
       "    .dataframe tbody tr th:only-of-type {\n",
       "        vertical-align: middle;\n",
       "    }\n",
       "\n",
       "    .dataframe tbody tr th {\n",
       "        vertical-align: top;\n",
       "    }\n",
       "\n",
       "    .dataframe thead th {\n",
       "        text-align: right;\n",
       "    }\n",
       "</style>\n",
       "<table border=\"1\" class=\"dataframe\">\n",
       "  <thead>\n",
       "    <tr style=\"text-align: right;\">\n",
       "      <th></th>\n",
       "      <th>Company</th>\n",
       "      <th>TypeName</th>\n",
       "      <th>Inches</th>\n",
       "      <th>Ram</th>\n",
       "      <th>Gpu</th>\n",
       "      <th>OpSys</th>\n",
       "      <th>Weight</th>\n",
       "      <th>Display</th>\n",
       "      <th>IPS</th>\n",
       "      <th>Touchscreen</th>\n",
       "      <th>Frequency</th>\n",
       "      <th>Processor</th>\n",
       "      <th>SSD</th>\n",
       "      <th>HDD</th>\n",
       "    </tr>\n",
       "  </thead>\n",
       "  <tbody>\n",
       "    <tr>\n",
       "      <th>290</th>\n",
       "      <td>Acer</td>\n",
       "      <td>Notebook</td>\n",
       "      <td>15</td>\n",
       "      <td>2</td>\n",
       "      <td>Intel</td>\n",
       "      <td>Chrome OS</td>\n",
       "      <td>2.0</td>\n",
       "      <td>1</td>\n",
       "      <td>0</td>\n",
       "      <td>0</td>\n",
       "      <td>2.0</td>\n",
       "      <td>Intel Celeron</td>\n",
       "      <td>16.0</td>\n",
       "      <td>0.0</td>\n",
       "    </tr>\n",
       "    <tr>\n",
       "      <th>757</th>\n",
       "      <td>HP</td>\n",
       "      <td>Workstation</td>\n",
       "      <td>15</td>\n",
       "      <td>8</td>\n",
       "      <td>Nvidia</td>\n",
       "      <td>Windows 7</td>\n",
       "      <td>2.5</td>\n",
       "      <td>2</td>\n",
       "      <td>0</td>\n",
       "      <td>0</td>\n",
       "      <td>3.0</td>\n",
       "      <td>Intel Core i7 7500</td>\n",
       "      <td>256.0</td>\n",
       "      <td>0.0</td>\n",
       "    </tr>\n",
       "    <tr>\n",
       "      <th>762</th>\n",
       "      <td>Avg_company</td>\n",
       "      <td>Ultrabook</td>\n",
       "      <td>12</td>\n",
       "      <td>8</td>\n",
       "      <td>Intel</td>\n",
       "      <td>Chrome OS</td>\n",
       "      <td>1.0</td>\n",
       "      <td>2</td>\n",
       "      <td>0</td>\n",
       "      <td>1</td>\n",
       "      <td>1.0</td>\n",
       "      <td>Intel Core</td>\n",
       "      <td>256.0</td>\n",
       "      <td>0.0</td>\n",
       "    </tr>\n",
       "    <tr>\n",
       "      <th>121</th>\n",
       "      <td>MSI</td>\n",
       "      <td>Gaming</td>\n",
       "      <td>15</td>\n",
       "      <td>16</td>\n",
       "      <td>Nvidia</td>\n",
       "      <td>Windows 10</td>\n",
       "      <td>2.0</td>\n",
       "      <td>2</td>\n",
       "      <td>0</td>\n",
       "      <td>0</td>\n",
       "      <td>3.0</td>\n",
       "      <td>Intel Core i7 7500+</td>\n",
       "      <td>256.0</td>\n",
       "      <td>2000.0</td>\n",
       "    </tr>\n",
       "    <tr>\n",
       "      <th>532</th>\n",
       "      <td>Asus</td>\n",
       "      <td>Notebook</td>\n",
       "      <td>15</td>\n",
       "      <td>8</td>\n",
       "      <td>Nvidia</td>\n",
       "      <td>Windows 10</td>\n",
       "      <td>2.0</td>\n",
       "      <td>3</td>\n",
       "      <td>1</td>\n",
       "      <td>0</td>\n",
       "      <td>3.0</td>\n",
       "      <td>Intel Core i7 7500</td>\n",
       "      <td>256.0</td>\n",
       "      <td>1000.0</td>\n",
       "    </tr>\n",
       "  </tbody>\n",
       "</table>\n",
       "</div>"
      ],
      "text/plain": [
       "         Company     TypeName  Inches  Ram     Gpu       OpSys  Weight  \\\n",
       "290         Acer     Notebook      15    2   Intel   Chrome OS     2.0   \n",
       "757           HP  Workstation      15    8  Nvidia   Windows 7     2.5   \n",
       "762  Avg_company    Ultrabook      12    8   Intel   Chrome OS     1.0   \n",
       "121          MSI       Gaming      15   16  Nvidia  Windows 10     2.0   \n",
       "532         Asus     Notebook      15    8  Nvidia  Windows 10     2.0   \n",
       "\n",
       "     Display  IPS  Touchscreen  Frequency            Processor    SSD     HDD  \n",
       "290        1    0            0        2.0        Intel Celeron   16.0     0.0  \n",
       "757        2    0            0        3.0   Intel Core i7 7500  256.0     0.0  \n",
       "762        2    0            1        1.0           Intel Core  256.0     0.0  \n",
       "121        2    0            0        3.0  Intel Core i7 7500+  256.0  2000.0  \n",
       "532        3    1            0        3.0   Intel Core i7 7500  256.0  1000.0  "
      ]
     },
     "execution_count": 81,
     "metadata": {},
     "output_type": "execute_result"
    }
   ],
   "source": [
    "X_train.head()"
   ]
  },
  {
   "cell_type": "code",
   "execution_count": 82,
   "id": "69dcb687",
   "metadata": {},
   "outputs": [],
   "source": [
    "preprocessor = ColumnTransformer(\n",
    "    transformers=[\n",
    "        ('num', numerical_transformer, [2,3,6,7,8,9,10,12,13]),\n",
    "        ('cat', categorical_transformer, [0,1,4,5,11])\n",
    "    ]\n",
    ")"
   ]
  },
  {
   "cell_type": "code",
   "execution_count": 83,
   "id": "8c1c3fa0",
   "metadata": {},
   "outputs": [],
   "source": [
    "from sklearn.pipeline import Pipeline"
   ]
  },
  {
   "cell_type": "raw",
   "id": "1230dbed",
   "metadata": {},
   "source": [
    "pipe = Pipeline([\n",
    "            ('preprocessor',preprocessor),\n",
    "            ('regressor', model)\n",
    "])"
   ]
  },
  {
   "cell_type": "code",
   "execution_count": 84,
   "id": "158dc72b",
   "metadata": {},
   "outputs": [],
   "source": [
    "from sklearn.linear_model import LinearRegression,Ridge,Lasso,ElasticNet\n",
    "\n",
    "from sklearn.metrics import r2_score,mean_absolute_error"
   ]
  },
  {
   "cell_type": "code",
   "execution_count": 85,
   "id": "4f0d58ce",
   "metadata": {},
   "outputs": [
    {
     "name": "stdout",
     "output_type": "stream",
     "text": [
      "R2 score 0.8234632283015231\n",
      "MAE 0.2023645204051284\n"
     ]
    }
   ],
   "source": [
    "model = LinearRegression()\n",
    "\n",
    "pipe = Pipeline([\n",
    "            ('preprocessor',preprocessor),\n",
    "            ('regressor', model)\n",
    "])\n",
    "\n",
    "pipe.fit(X_train, y_train)\n",
    "\n",
    "y_pred = pipe.predict(X_test)\n",
    "\n",
    "print('R2 score',r2_score(y_test,y_pred))\n",
    "print('MAE',mean_absolute_error(y_test,y_pred))"
   ]
  },
  {
   "cell_type": "code",
   "execution_count": 130,
   "id": "6a17ae9f",
   "metadata": {},
   "outputs": [
    {
     "name": "stdout",
     "output_type": "stream",
     "text": [
      "R2 score 0.8246269587561041\n",
      "MAE 0.2022122852188822\n"
     ]
    }
   ],
   "source": [
    "model = Ridge()\n",
    "\n",
    "pipe = Pipeline([\n",
    "            ('preprocessor',preprocessor),\n",
    "            ('regressor', model)\n",
    "])\n",
    "\n",
    "pipe.fit(X_train, y_train)\n",
    "\n",
    "y_pred = pipe.predict(X_test)\n",
    "\n",
    "print('R2 score',r2_score(y_test,y_pred))\n",
    "print('MAE',mean_absolute_error(y_test,y_pred))"
   ]
  },
  {
   "cell_type": "code",
   "execution_count": 136,
   "id": "911006db",
   "metadata": {},
   "outputs": [
    {
     "name": "stdout",
     "output_type": "stream",
     "text": [
      "R2 score 0.8201546090644818\n",
      "MAE 0.20403433889817088\n"
     ]
    }
   ],
   "source": [
    "model = Lasso(alpha=0.001)\n",
    "\n",
    "pipe = Pipeline([\n",
    "            ('preprocessor',preprocessor),\n",
    "            ('regressor', model)\n",
    "])\n",
    "\n",
    "pipe.fit(X_train, y_train)\n",
    "\n",
    "y_pred = pipe.predict(X_test)\n",
    "\n",
    "print('R2 score',r2_score(y_test,y_pred))\n",
    "print('MAE',mean_absolute_error(y_test,y_pred))"
   ]
  },
  {
   "cell_type": "code",
   "execution_count": 88,
   "id": "df52e757",
   "metadata": {},
   "outputs": [
    {
     "name": "stdout",
     "output_type": "stream",
     "text": [
      "R2 score -0.004783219668816008\n",
      "MAE 0.5149054601208167\n"
     ]
    }
   ],
   "source": [
    "model = ElasticNet()\n",
    "\n",
    "pipe = Pipeline([\n",
    "            ('preprocessor',preprocessor),\n",
    "            ('regressor', model)\n",
    "])\n",
    "\n",
    "pipe.fit(X_train, y_train)\n",
    "\n",
    "y_pred = pipe.predict(X_test)\n",
    "\n",
    "print('R2 score',r2_score(y_test,y_pred))\n",
    "print('MAE',mean_absolute_error(y_test,y_pred))"
   ]
  },
  {
   "cell_type": "code",
   "execution_count": 89,
   "id": "39501567",
   "metadata": {},
   "outputs": [],
   "source": [
    "from sklearn.svm import SVR\n",
    "from sklearn.neighbors import KNeighborsRegressor\n",
    "from sklearn.tree import DecisionTreeRegressor"
   ]
  },
  {
   "cell_type": "code",
   "execution_count": 138,
   "id": "84f83a25",
   "metadata": {},
   "outputs": [
    {
     "name": "stdout",
     "output_type": "stream",
     "text": [
      "R2 score 0.8631647639628037\n",
      "MAE 0.1703371464887311\n"
     ]
    }
   ],
   "source": [
    "model = SVR()\n",
    "\n",
    "pipe = Pipeline([\n",
    "            ('preprocessor',preprocessor),\n",
    "            ('regressor', model)\n",
    "])\n",
    "\n",
    "pipe.fit(X_train, y_train)\n",
    "\n",
    "y_pred = pipe.predict(X_test)\n",
    "\n",
    "print('R2 score',r2_score(y_test,y_pred))\n",
    "print('MAE',mean_absolute_error(y_test,y_pred))"
   ]
  },
  {
   "cell_type": "code",
   "execution_count": 141,
   "id": "f171bb95",
   "metadata": {},
   "outputs": [
    {
     "name": "stdout",
     "output_type": "stream",
     "text": [
      "R2 score 0.8089459554365421\n",
      "MAE 0.20415209947539376\n"
     ]
    }
   ],
   "source": [
    "model = KNeighborsRegressor(n_neighbors=5)\n",
    "\n",
    "pipe = Pipeline([\n",
    "            ('preprocessor',preprocessor),\n",
    "            ('regressor', model)\n",
    "])\n",
    "\n",
    "pipe.fit(X_train, y_train)\n",
    "\n",
    "y_pred = pipe.predict(X_test)\n",
    "\n",
    "print('R2 score',r2_score(y_test,y_pred))\n",
    "print('MAE',mean_absolute_error(y_test,y_pred))"
   ]
  },
  {
   "cell_type": "code",
   "execution_count": 92,
   "id": "1f10ce5a",
   "metadata": {},
   "outputs": [
    {
     "name": "stdout",
     "output_type": "stream",
     "text": [
      "R2 score 0.7641686544233259\n",
      "MAE 0.22043010721907122\n"
     ]
    }
   ],
   "source": [
    "model = DecisionTreeRegressor()\n",
    "\n",
    "pipe = Pipeline([\n",
    "            ('preprocessor',preprocessor),\n",
    "            ('regressor', model)\n",
    "])\n",
    "\n",
    "pipe.fit(X_train, y_train)\n",
    "\n",
    "y_pred = pipe.predict(X_test)\n",
    "\n",
    "print('R2 score',r2_score(y_test,y_pred))\n",
    "print('MAE',mean_absolute_error(y_test,y_pred))"
   ]
  },
  {
   "cell_type": "code",
   "execution_count": 93,
   "id": "bca654cb",
   "metadata": {},
   "outputs": [],
   "source": [
    "from sklearn.ensemble import RandomForestRegressor,GradientBoostingRegressor,AdaBoostRegressor,ExtraTreesRegressor"
   ]
  },
  {
   "cell_type": "code",
   "execution_count": 94,
   "id": "2970f6d5",
   "metadata": {},
   "outputs": [
    {
     "name": "stdout",
     "output_type": "stream",
     "text": [
      "R2 score 0.838617587276659\n",
      "MAE 0.18150032980425532\n"
     ]
    }
   ],
   "source": [
    "model = RandomForestRegressor()\n",
    "\n",
    "pipe = Pipeline([\n",
    "            ('preprocessor',preprocessor),\n",
    "            ('regressor', model)\n",
    "])\n",
    "\n",
    "pipe.fit(X_train, y_train)\n",
    "\n",
    "y_pred = pipe.predict(X_test)\n",
    "\n",
    "print('R2 score',r2_score(y_test,y_pred))\n",
    "print('MAE',mean_absolute_error(y_test,y_pred))"
   ]
  },
  {
   "cell_type": "code",
   "execution_count": 95,
   "id": "a4bd50e8",
   "metadata": {},
   "outputs": [
    {
     "name": "stdout",
     "output_type": "stream",
     "text": [
      "R2 score 0.8601974871152609\n",
      "MAE 0.17418418628572305\n"
     ]
    }
   ],
   "source": [
    "model = GradientBoostingRegressor()\n",
    "\n",
    "pipe = Pipeline([\n",
    "            ('preprocessor',preprocessor),\n",
    "            ('regressor', model)\n",
    "])\n",
    "\n",
    "pipe.fit(X_train, y_train)\n",
    "\n",
    "y_pred = pipe.predict(X_test)\n",
    "\n",
    "print('R2 score',r2_score(y_test,y_pred))\n",
    "print('MAE',mean_absolute_error(y_test,y_pred))"
   ]
  },
  {
   "cell_type": "code",
   "execution_count": 96,
   "id": "03fcb12d",
   "metadata": {},
   "outputs": [
    {
     "name": "stdout",
     "output_type": "stream",
     "text": [
      "R2 score 0.779346548388106\n",
      "MAE 0.23192392524967198\n"
     ]
    }
   ],
   "source": [
    "model = AdaBoostRegressor()\n",
    "\n",
    "pipe = Pipeline([\n",
    "            ('preprocessor',preprocessor),\n",
    "            ('regressor', model)\n",
    "])\n",
    "\n",
    "pipe.fit(X_train, y_train)\n",
    "\n",
    "y_pred = pipe.predict(X_test)\n",
    "\n",
    "print('R2 score',r2_score(y_test,y_pred))\n",
    "print('MAE',mean_absolute_error(y_test,y_pred))"
   ]
  },
  {
   "cell_type": "code",
   "execution_count": 97,
   "id": "76f25f67",
   "metadata": {},
   "outputs": [
    {
     "name": "stdout",
     "output_type": "stream",
     "text": [
      "R2 score 0.81947164742697\n",
      "MAE 0.18963001498096077\n"
     ]
    }
   ],
   "source": [
    "model = ExtraTreesRegressor()\n",
    "\n",
    "pipe = Pipeline([\n",
    "            ('preprocessor',preprocessor),\n",
    "            ('regressor', model)\n",
    "])\n",
    "\n",
    "pipe.fit(X_train, y_train)\n",
    "\n",
    "y_pred = pipe.predict(X_test)\n",
    "\n",
    "print('R2 score',r2_score(y_test,y_pred))\n",
    "print('MAE',mean_absolute_error(y_test,y_pred))"
   ]
  },
  {
   "cell_type": "code",
   "execution_count": 98,
   "id": "8252dbe9",
   "metadata": {},
   "outputs": [],
   "source": [
    "from xgboost import XGBRegressor"
   ]
  },
  {
   "cell_type": "code",
   "execution_count": 99,
   "id": "c41653e9",
   "metadata": {},
   "outputs": [
    {
     "name": "stdout",
     "output_type": "stream",
     "text": [
      "R2 score 0.8643035674097166\n",
      "MAE 0.1664990530588069\n"
     ]
    }
   ],
   "source": [
    "model = XGBRegressor()\n",
    "\n",
    "pipe = Pipeline([\n",
    "            ('preprocessor',preprocessor),\n",
    "            ('regressor', model)\n",
    "])\n",
    "\n",
    "pipe.fit(X_train, y_train)\n",
    "\n",
    "y_pred = pipe.predict(X_test)\n",
    "\n",
    "print('R2 score',r2_score(y_test,y_pred))\n",
    "print('MAE',mean_absolute_error(y_test,y_pred))"
   ]
  },
  {
   "cell_type": "code",
   "execution_count": 100,
   "id": "9bbfad22",
   "metadata": {},
   "outputs": [
    {
     "name": "stdout",
     "output_type": "stream",
     "text": [
      "R2 score 0.8015588774400055\n",
      "MAE 0.21392350567368457\n"
     ]
    }
   ],
   "source": [
    "# Manual hyperparameter tuning\n",
    "\n",
    "model = RandomForestRegressor(n_estimators=200, max_depth=5,min_samples_split=5)\n",
    "\n",
    "pipe = Pipeline([\n",
    "            ('preprocessor',preprocessor),\n",
    "            ('regressor', model)\n",
    "])\n",
    "\n",
    "pipe.fit(X_train, y_train)\n",
    "\n",
    "y_pred = pipe.predict(X_test)\n",
    "\n",
    "print('R2 score',r2_score(y_test,y_pred))\n",
    "print('MAE',mean_absolute_error(y_test,y_pred))"
   ]
  },
  {
   "cell_type": "markdown",
   "id": "10991026",
   "metadata": {},
   "source": [
    "#### Randomized Search CV"
   ]
  },
  {
   "cell_type": "code",
   "execution_count": 101,
   "id": "4cf7f670",
   "metadata": {},
   "outputs": [],
   "source": [
    "from sklearn.model_selection import RandomizedSearchCV"
   ]
  },
  {
   "cell_type": "code",
   "execution_count": 102,
   "id": "3d66675d",
   "metadata": {},
   "outputs": [],
   "source": [
    "preprocessor = ColumnTransformer(\n",
    "    transformers=[\n",
    "        ('num', numerical_transformer, [2, 3, 6, 7, 8, 9, 10, 12, 13]),\n",
    "        ('cat', categorical_transformer, [0, 1, 4, 5, 11])\n",
    "    ]\n",
    ")\n",
    "\n",
    "# Apply the ColumnTransformer to X_train and y_train\n",
    "X_train_transformed = preprocessor.fit_transform(X_train)\n",
    "y_train_transformed = y_train"
   ]
  },
  {
   "cell_type": "code",
   "execution_count": 103,
   "id": "99274819",
   "metadata": {},
   "outputs": [],
   "source": [
    "X_test_transformed = preprocessor.transform(X_test)"
   ]
  },
  {
   "cell_type": "code",
   "execution_count": 104,
   "id": "bca38bbd",
   "metadata": {},
   "outputs": [],
   "source": [
    "import warnings\n",
    "warnings.filterwarnings('ignore')"
   ]
  },
  {
   "cell_type": "code",
   "execution_count": 148,
   "id": "84d3933f",
   "metadata": {},
   "outputs": [
    {
     "name": "stdout",
     "output_type": "stream",
     "text": [
      "{'n_estimators': [100, 200, 300, 400, 500, 600, 700, 800, 900, 1000], 'max_features': ['sqrt', 'log2', 'auto'], 'max_depth': [100, 200, 300, 400, 500, 600, 700, 800, 900, 1000], 'min_samples_split': [1, 2, 4, 5, 7], 'min_samples_leaf': [1, 2, 5, 8, 10, 15], 'criterion': ['squared_error', 'absolute_error', 'friedman_mse', 'poisson']}\n"
     ]
    }
   ],
   "source": [
    "#Number of trees in random forest\n",
    "n_estimators = [int(x) for x in np.linspace(start=100, stop=1000, num=10)]\n",
    "# Maximum number of levels in tree\n",
    "max_depth = [int(x) for x in np.linspace(100, 1000,10)]\n",
    "# Minimum number of samples required to split a node\n",
    "min_samples_split = [1, 2, 4, 5, 7]\n",
    "# Minimum number of samples required at each leaf node\n",
    "min_samples_leaf = [1, 2, 5, 8, 10, 15]\n",
    "# Create the random grid\n",
    "random_grid = {'n_estimators': n_estimators,\n",
    "               'max_features': ['sqrt', 'log2', 'auto'],\n",
    "               'max_depth': max_depth,\n",
    "               'min_samples_split': min_samples_split,\n",
    "               'min_samples_leaf': min_samples_leaf,\n",
    "              'criterion':['squared_error', 'absolute_error', 'friedman_mse', 'poisson']}\n",
    "\n",
    "print(random_grid)"
   ]
  },
  {
   "cell_type": "code",
   "execution_count": null,
   "id": "89705ea6",
   "metadata": {},
   "outputs": [],
   "source": [
    "rfr = RandomForestRegressor()\n",
    "\n",
    "rfr_randomcv = RandomizedSearchCV(estimator=rfr,param_distributions=random_grid,n_iter=100,cv=5, verbose = 2, n_jobs=-1, random_state=33)\n",
    "\n",
    "rfr_randomcv.fit(X_train_transformed,y_train_transformed)"
   ]
  },
  {
   "cell_type": "code",
   "execution_count": null,
   "id": "e78fe1ae",
   "metadata": {},
   "outputs": [],
   "source": [
    "rfr_randomcv.best_params_"
   ]
  },
  {
   "cell_type": "code",
   "execution_count": 145,
   "id": "0ff5cdd1",
   "metadata": {},
   "outputs": [],
   "source": [
    "best_random_grid=rfr_randomcv.best_estimator_"
   ]
  },
  {
   "cell_type": "code",
   "execution_count": 146,
   "id": "43799eca",
   "metadata": {},
   "outputs": [],
   "source": [
    "y_pred=best_random_grid.predict(X_test_transformed)"
   ]
  },
  {
   "cell_type": "code",
   "execution_count": 147,
   "id": "9712bef7",
   "metadata": {},
   "outputs": [
    {
     "name": "stdout",
     "output_type": "stream",
     "text": [
      "R2 score 0.835683031303783\n",
      "MAE 0.18258529101326948\n"
     ]
    }
   ],
   "source": [
    "print('R2 score',r2_score(y_test,y_pred))\n",
    "print('MAE',mean_absolute_error(y_test,y_pred))"
   ]
  },
  {
   "cell_type": "markdown",
   "id": "a0f96395",
   "metadata": {},
   "source": [
    "#### GridSearch CV"
   ]
  },
  {
   "cell_type": "code",
   "execution_count": 111,
   "id": "cc3b2c6f",
   "metadata": {},
   "outputs": [],
   "source": [
    "from sklearn.model_selection import GridSearchCV"
   ]
  },
  {
   "cell_type": "code",
   "execution_count": 112,
   "id": "28d9026b",
   "metadata": {},
   "outputs": [
    {
     "data": {
      "text/plain": [
       "{'n_estimators': 100,\n",
       " 'min_samples_split': 7,\n",
       " 'min_samples_leaf': 1,\n",
       " 'max_features': 'sqrt',\n",
       " 'max_depth': 120,\n",
       " 'criterion': 'friedman_mse'}"
      ]
     },
     "execution_count": 112,
     "metadata": {},
     "output_type": "execute_result"
    }
   ],
   "source": [
    "rfr_randomcv.best_params_"
   ]
  },
  {
   "cell_type": "code",
   "execution_count": 113,
   "id": "b1c00739",
   "metadata": {},
   "outputs": [
    {
     "name": "stdout",
     "output_type": "stream",
     "text": [
      "{'criterion': ['friedman_mse'], 'max_depth': [120], 'max_features': ['sqrt'], 'min_samples_leaf': [1, 3, 5], 'min_samples_split': [2, 5, 7, 10], 'n_estimators': [50, 100, 200, 250]}\n"
     ]
    }
   ],
   "source": [
    "param_grid = {\n",
    "    'criterion' : [rfr_randomcv.best_params_['criterion']],\n",
    "    'max_depth' : [rfr_randomcv.best_params_['max_depth']],\n",
    "    'max_features' : [rfr_randomcv.best_params_['max_features']],\n",
    "    'min_samples_leaf':[rfr_randomcv.best_params_['min_samples_leaf'],\n",
    "                       rfr_randomcv.best_params_['min_samples_leaf'] + 2,\n",
    "                       rfr_randomcv.best_params_['min_samples_leaf'] + 4],\n",
    "    'min_samples_split' : [rfr_randomcv.best_params_['min_samples_split'] - 5,\n",
    "                          rfr_randomcv.best_params_['min_samples_split'] - 2,\n",
    "                          rfr_randomcv.best_params_['min_samples_split'],\n",
    "                          rfr_randomcv.best_params_['min_samples_split'] + 3],\n",
    "    'n_estimators' : [rfr_randomcv.best_params_['n_estimators']-50,\n",
    "                     rfr_randomcv.best_params_['n_estimators'],\n",
    "                     rfr_randomcv.best_params_['n_estimators'] + 100,\n",
    "                     rfr_randomcv.best_params_['n_estimators'] + 150]\n",
    "}\n",
    "\n",
    "print(param_grid)"
   ]
  },
  {
   "cell_type": "code",
   "execution_count": 114,
   "id": "e879335a",
   "metadata": {},
   "outputs": [
    {
     "name": "stdout",
     "output_type": "stream",
     "text": [
      "Fitting 5 folds for each of 48 candidates, totalling 240 fits\n"
     ]
    },
    {
     "data": {
      "text/plain": [
       "GridSearchCV(cv=5, estimator=RandomForestRegressor(), n_jobs=-1,\n",
       "             param_grid={'criterion': ['friedman_mse'], 'max_depth': [120],\n",
       "                         'max_features': ['sqrt'],\n",
       "                         'min_samples_leaf': [1, 3, 5],\n",
       "                         'min_samples_split': [2, 5, 7, 10],\n",
       "                         'n_estimators': [50, 100, 200, 250]},\n",
       "             verbose=2)"
      ]
     },
     "execution_count": 114,
     "metadata": {},
     "output_type": "execute_result"
    }
   ],
   "source": [
    "#fitting gridsearch to the data\n",
    "\n",
    "rfr = RandomForestRegressor()\n",
    "\n",
    "gridsearchcv = GridSearchCV(estimator=rfr, param_grid=param_grid,  cv=5, n_jobs=-1, verbose=2)\n",
    "\n",
    "gridsearchcv.fit(X_train_transformed,y_train)"
   ]
  },
  {
   "cell_type": "code",
   "execution_count": 115,
   "id": "3269b24c",
   "metadata": {},
   "outputs": [
    {
     "data": {
      "text/plain": [
       "{'criterion': 'friedman_mse',\n",
       " 'max_depth': 120,\n",
       " 'max_features': 'sqrt',\n",
       " 'min_samples_leaf': 1,\n",
       " 'min_samples_split': 2,\n",
       " 'n_estimators': 250}"
      ]
     },
     "execution_count": 115,
     "metadata": {},
     "output_type": "execute_result"
    }
   ],
   "source": [
    "gridsearchcv.best_params_"
   ]
  },
  {
   "cell_type": "code",
   "execution_count": 116,
   "id": "7eadba42",
   "metadata": {},
   "outputs": [],
   "source": [
    "best_grid = gridsearchcv.best_estimator_"
   ]
  },
  {
   "cell_type": "code",
   "execution_count": 117,
   "id": "853f9e8e",
   "metadata": {},
   "outputs": [
    {
     "name": "stdout",
     "output_type": "stream",
     "text": [
      "R2 score 0.8577086125179171\n",
      "MAE 0.17401475064168748\n"
     ]
    }
   ],
   "source": [
    "y_pred = best_grid.predict(X_test_transformed)\n",
    "\n",
    "print('R2 score',r2_score(y_test,y_pred))\n",
    "print('MAE',mean_absolute_error(y_test,y_pred))"
   ]
  },
  {
   "cell_type": "markdown",
   "id": "a4735e18",
   "metadata": {},
   "source": [
    "#### Hyperparameter tuning"
   ]
  },
  {
   "cell_type": "code",
   "execution_count": 118,
   "id": "80dd0caf",
   "metadata": {},
   "outputs": [
    {
     "name": "stdout",
     "output_type": "stream",
     "text": [
      "R2 score 0.8234632283015231\n",
      "MAE 0.2023645204051284\n"
     ]
    }
   ],
   "source": [
    "model = LinearRegression()\n",
    "\n",
    "pipe = Pipeline([\n",
    "            ('preprocessor',preprocessor),\n",
    "            ('regressor', model)\n",
    "])\n",
    "\n",
    "pipe.fit(X_train, y_train)\n",
    "\n",
    "y_pred = pipe.predict(X_test)\n",
    "\n",
    "print('R2 score',r2_score(y_test,y_pred))\n",
    "print('MAE',mean_absolute_error(y_test,y_pred))"
   ]
  },
  {
   "cell_type": "code",
   "execution_count": 119,
   "id": "654b4c5d",
   "metadata": {},
   "outputs": [
    {
     "name": "stdout",
     "output_type": "stream",
     "text": [
      "R2 score 0.8246269587561041\n",
      "MAE 0.2022122852188822\n"
     ]
    }
   ],
   "source": [
    "model = Ridge()\n",
    "\n",
    "pipe = Pipeline([\n",
    "            ('preprocessor',preprocessor),\n",
    "            ('regressor', model)\n",
    "])\n",
    "\n",
    "pipe.fit(X_train, y_train)\n",
    "\n",
    "y_pred = pipe.predict(X_test)\n",
    "\n",
    "print('R2 score',r2_score(y_test,y_pred))\n",
    "print('MAE',mean_absolute_error(y_test,y_pred))"
   ]
  },
  {
   "cell_type": "code",
   "execution_count": 120,
   "id": "d50a455b",
   "metadata": {},
   "outputs": [
    {
     "name": "stdout",
     "output_type": "stream",
     "text": [
      "Best R2 score: nan\n",
      "Best hyperparameters: {'regressor__alpha': 0.1, 'regressor__solver': 'auto'}\n",
      "R2 score on test set: 0.8241110869237037\n",
      "MAE on test set: 0.20256948574670924\n"
     ]
    }
   ],
   "source": [
    "from sklearn.model_selection import GridSearchCV\n",
    "\n",
    "model = Ridge()\n",
    "\n",
    "pipe = Pipeline([\n",
    "    ('preprocessor', preprocessor),\n",
    "    ('regressor', model)\n",
    "])\n",
    "\n",
    "# Define the hyperparameters and their potential values\n",
    "param_grid = {\n",
    "    'regressor__alpha': [0.1, 1.0, 10.0],  # Example alpha values to try\n",
    "    'regressor__solver': ['auto', 'svd', 'cholesky', 'lsqr', 'sag']  # Example solver algorithms to try\n",
    "}\n",
    "\n",
    "# Perform grid search with cross-validation\n",
    "grid_search = GridSearchCV(pipe, param_grid, cv=5, scoring='r2')\n",
    "grid_search.fit(X_train, y_train)\n",
    "\n",
    "# Get the best estimator and predict on the test set\n",
    "best_estimator = grid_search.best_estimator_\n",
    "y_pred = best_estimator.predict(X_test)\n",
    "\n",
    "# Evaluate the model performance\n",
    "print('Best R2 score:', grid_search.best_score_)\n",
    "print('Best hyperparameters:', grid_search.best_params_)\n",
    "print('R2 score on test set:', r2_score(y_test, y_pred))\n",
    "print('MAE on test set:', mean_absolute_error(y_test, y_pred))"
   ]
  },
  {
   "cell_type": "markdown",
   "id": "a668961f",
   "metadata": {},
   "source": [
    "### Final Model, I choosed."
   ]
  },
  {
   "cell_type": "markdown",
   "id": "6695d372",
   "metadata": {},
   "source": [
    "#### RandomSearch CV"
   ]
  },
  {
   "cell_type": "code",
   "execution_count": 121,
   "id": "e8102226",
   "metadata": {},
   "outputs": [],
   "source": [
    "preprocessor = ColumnTransformer(\n",
    "    transformers=[\n",
    "        ('num', numerical_transformer, [2, 3, 6, 7, 8, 9, 10, 12, 13]),\n",
    "        ('cat', categorical_transformer, [0, 1, 4, 5, 11])\n",
    "    ]\n",
    ")\n",
    "\n",
    "# Apply the ColumnTransformer to X_train and y_train\n",
    "X_train_transformed = preprocessor.fit_transform(X_train)\n",
    "y_train_transformed = y_train\n",
    "\n",
    "X_test_transformed = preprocessor.transform(X_test)"
   ]
  },
  {
   "cell_type": "code",
   "execution_count": 122,
   "id": "f62c9f92",
   "metadata": {},
   "outputs": [
    {
     "name": "stdout",
     "output_type": "stream",
     "text": [
      "{'loss': ['squared_error', 'absolute_error', 'huber', 'quantile'], 'learning_rate': [1, 0.1, 0.01, 0.001], 'n_estimators': [100, 200, 300, 400], 'criterion': ['friedman_mse', 'squared_error'], 'max_depth': [2, 3, 5, 6], 'min_samples_split': [2, 3, 4], 'min_samples_leaf': [1, 2, 3], 'subsample': [0.8, 0.9, 1.0]}\n"
     ]
    }
   ],
   "source": [
    "param_grid = {\n",
    "    'loss': ['squared_error', 'absolute_error', 'huber', 'quantile'],\n",
    "    'learning_rate': [1,0.1, 0.01, 0.001],\n",
    "    'n_estimators': [100, 200, 300, 400],\n",
    "    'criterion' :['friedman_mse','squared_error'],\n",
    "    'max_depth': [2, 3, 5, 6],\n",
    "    'min_samples_split': [2, 3, 4],\n",
    "    'min_samples_leaf': [1, 2, 3],\n",
    "    'subsample': [0.8, 0.9, 1.0]\n",
    "}\n",
    "print(param_grid)"
   ]
  },
  {
   "cell_type": "code",
   "execution_count": 123,
   "id": "cc5a5af6",
   "metadata": {},
   "outputs": [
    {
     "name": "stdout",
     "output_type": "stream",
     "text": [
      "Fitting 5 folds for each of 50 candidates, totalling 250 fits\n"
     ]
    },
    {
     "data": {
      "text/plain": [
       "RandomizedSearchCV(cv=5, estimator=GradientBoostingRegressor(), n_iter=50,\n",
       "                   n_jobs=-1,\n",
       "                   param_distributions={'criterion': ['squared_error',\n",
       "                                                      'absolute_error',\n",
       "                                                      'friedman_mse',\n",
       "                                                      'poisson'],\n",
       "                                        'max_depth': [10, 120, 230, 340, 450,\n",
       "                                                      560, 670, 780, 890,\n",
       "                                                      1000],\n",
       "                                        'max_features': ['sqrt', 'log2',\n",
       "                                                         'auto'],\n",
       "                                        'min_samples_leaf': [1, 2, 3, 4, 5, 7,\n",
       "                                                             9, 10],\n",
       "                                        'min_samples_split': [1, 2, 4, 5, 7, 8,\n",
       "                                                              9, 10],\n",
       "                                        'n_estimators': [100, 200, 300, 400,\n",
       "                                                         500, 600, 700, 800,\n",
       "                                                         900, 1000]},\n",
       "                   random_state=43, verbose=2)"
      ]
     },
     "execution_count": 123,
     "metadata": {},
     "output_type": "execute_result"
    }
   ],
   "source": [
    "gbr = GradientBoostingRegressor()\n",
    "\n",
    "gbr_randomcv = RandomizedSearchCV(estimator=gbr,param_distributions=random_grid,n_iter=50,cv=5, verbose = 2, n_jobs=-1, random_state=43)\n",
    "\n",
    "gbr_randomcv.fit(X_train_transformed,y_train_transformed)"
   ]
  },
  {
   "cell_type": "code",
   "execution_count": 124,
   "id": "2004ebca",
   "metadata": {},
   "outputs": [
    {
     "data": {
      "text/plain": [
       "GradientBoostingRegressor(criterion='squared_error', max_depth=450,\n",
       "                          max_features='sqrt', min_samples_leaf=5)"
      ]
     },
     "execution_count": 124,
     "metadata": {},
     "output_type": "execute_result"
    }
   ],
   "source": [
    "gbr_randomcv.best_estimator_"
   ]
  },
  {
   "cell_type": "code",
   "execution_count": 125,
   "id": "88434681",
   "metadata": {},
   "outputs": [],
   "source": [
    "best_grid = gbr_randomcv.best_estimator_"
   ]
  },
  {
   "cell_type": "code",
   "execution_count": 127,
   "id": "a7148a1d",
   "metadata": {},
   "outputs": [],
   "source": [
    "y_pred = best_grid.predict(X_test_transformed)"
   ]
  },
  {
   "cell_type": "code",
   "execution_count": 128,
   "id": "97902c26",
   "metadata": {},
   "outputs": [
    {
     "name": "stdout",
     "output_type": "stream",
     "text": [
      "R2 score 0.8672229743286659\n",
      "MAE 0.17013615899083037\n"
     ]
    }
   ],
   "source": [
    "print('R2 score',r2_score(y_test,y_pred))\n",
    "print('MAE',mean_absolute_error(y_test,y_pred))"
   ]
  },
  {
   "cell_type": "markdown",
   "id": "8cf3527a",
   "metadata": {},
   "source": [
    "#### Exporting Model"
   ]
  },
  {
   "cell_type": "code",
   "execution_count": 159,
   "id": "f6680dff",
   "metadata": {},
   "outputs": [],
   "source": [
    "import pickle\n",
    "\n",
    "pickle.dump(df, open('df.pkl', 'wb'))\n",
    "pickle.dump(best_grid, open('model.pkl', 'wb'))"
   ]
  },
  {
   "cell_type": "code",
   "execution_count": null,
   "id": "936a13d6",
   "metadata": {},
   "outputs": [],
   "source": []
  }
 ],
 "metadata": {
  "kernelspec": {
   "display_name": "Python 3 (ipykernel)",
   "language": "python",
   "name": "python3"
  },
  "language_info": {
   "codemirror_mode": {
    "name": "ipython",
    "version": 3
   },
   "file_extension": ".py",
   "mimetype": "text/x-python",
   "name": "python",
   "nbconvert_exporter": "python",
   "pygments_lexer": "ipython3",
   "version": "3.9.13"
  }
 },
 "nbformat": 4,
 "nbformat_minor": 5
}
